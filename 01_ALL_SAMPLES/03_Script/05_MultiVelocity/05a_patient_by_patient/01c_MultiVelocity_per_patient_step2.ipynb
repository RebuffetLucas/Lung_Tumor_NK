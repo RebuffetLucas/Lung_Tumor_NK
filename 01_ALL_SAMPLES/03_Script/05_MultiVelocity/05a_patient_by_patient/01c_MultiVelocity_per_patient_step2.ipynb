{
 "cells": [
  {
   "cell_type": "markdown",
   "id": "a622389d-2880-44de-80b5-bc0d06edeeaa",
   "metadata": {},
   "source": [
    "## Smoothing gene aggregated peaks by neighbors"
   ]
  },
  {
   "cell_type": "code",
   "execution_count": 1,
   "id": "7cfb446b-6b36-4c9c-8dac-e931683d4cef",
   "metadata": {},
   "outputs": [
    {
     "ename": "NameError",
     "evalue": "name 'np' is not defined",
     "output_type": "error",
     "traceback": [
      "\u001b[0;31m---------------------------------------------------------------------------\u001b[0m",
      "\u001b[0;31mNameError\u001b[0m                                 Traceback (most recent call last)",
      "Cell \u001b[0;32mIn[1], line 2\u001b[0m\n\u001b[1;32m      1\u001b[0m \u001b[38;5;66;03m# Read in Seurat WNN neighbors.\u001b[39;00m\n\u001b[0;32m----> 2\u001b[0m nn_idx \u001b[38;5;241m=\u001b[39m \u001b[43mnp\u001b[49m\u001b[38;5;241m.\u001b[39mloadtxt(os\u001b[38;5;241m.\u001b[39mpath\u001b[38;5;241m.\u001b[39mjoin( PATH_EXPERIMENT_OUTPUT, ANALYSIS_04a0_STEP_NAME,\u001b[38;5;124m\"\u001b[39m\u001b[38;5;124mNeighborhood_Graph/nn_idx.txt\u001b[39m\u001b[38;5;124m\"\u001b[39m), delimiter\u001b[38;5;241m=\u001b[39m\u001b[38;5;124m'\u001b[39m\u001b[38;5;124m,\u001b[39m\u001b[38;5;124m'\u001b[39m)\n\u001b[1;32m      3\u001b[0m nn_dist \u001b[38;5;241m=\u001b[39m np\u001b[38;5;241m.\u001b[39mloadtxt(os\u001b[38;5;241m.\u001b[39mpath\u001b[38;5;241m.\u001b[39mjoin( PATH_EXPERIMENT_OUTPUT, ANALYSIS_04a0_STEP_NAME,\u001b[38;5;124m\"\u001b[39m\u001b[38;5;124mNeighborhood_Graph/nn_dist.txt\u001b[39m\u001b[38;5;124m\"\u001b[39m), delimiter\u001b[38;5;241m=\u001b[39m\u001b[38;5;124m'\u001b[39m\u001b[38;5;124m,\u001b[39m\u001b[38;5;124m'\u001b[39m)\n\u001b[1;32m      4\u001b[0m nn_cells \u001b[38;5;241m=\u001b[39m pd\u001b[38;5;241m.\u001b[39mIndex(pd\u001b[38;5;241m.\u001b[39mread_csv(os\u001b[38;5;241m.\u001b[39mpath\u001b[38;5;241m.\u001b[39mjoin( PATH_EXPERIMENT_OUTPUT, ANALYSIS_04a0_STEP_NAME,\u001b[38;5;124m\"\u001b[39m\u001b[38;5;124mNeighborhood_Graph/nn_cells.txt\u001b[39m\u001b[38;5;124m\"\u001b[39m), header\u001b[38;5;241m=\u001b[39m\u001b[38;5;28;01mNone\u001b[39;00m)[\u001b[38;5;241m0\u001b[39m])\n",
      "\u001b[0;31mNameError\u001b[0m: name 'np' is not defined"
     ]
    }
   ],
   "source": [
    "# Read in Seurat WNN neighbors.\n",
    "nn_idx = np.loadtxt(os.path.join( PATH_EXPERIMENT_OUTPUT, ANALYSIS_04a0_STEP_NAME,\"Neighborhood_Graph/nn_idx.txt\"), delimiter=',')\n",
    "nn_dist = np.loadtxt(os.path.join( PATH_EXPERIMENT_OUTPUT, ANALYSIS_04a0_STEP_NAME,\"Neighborhood_Graph/nn_dist.txt\"), delimiter=',')\n",
    "nn_cells = pd.Index(pd.read_csv(os.path.join( PATH_EXPERIMENT_OUTPUT, ANALYSIS_04a0_STEP_NAME,\"Neighborhood_Graph/nn_cells.txt\"), header=None)[0])\n",
    "\n",
    "# Convert the names in nn_cells to the desired format\n",
    "nn_cells_formatted = pd.Index([f\"{name.split('_')[1]}_{name.split('_')[0]}\" for name in nn_cells])\n"
   ]
  },
  {
   "cell_type": "code",
   "execution_count": null,
   "id": "df63352e-0e26-405a-a5dd-2a027e13c60c",
   "metadata": {},
   "outputs": [],
   "source": [
    "#Reduce the tables to the relevant cells only\n",
    "#Step 1: Find the intersection of adata_rna.obs_names and nn_cells_formatted\n",
    "common_cells = adata_rna.obs_names.intersection(nn_cells_formatted)\n",
    "\n",
    "# Step 2: Get the indices of the common cells in nn_cells_formatted\n",
    "common_indices = [i for i, cell in enumerate(nn_cells_formatted) if cell in common_cells]\n",
    "\n",
    "# Step 3: Filter nn_idx and nn_dist to keep only the rows corresponding to common_indices\n",
    "nn_idx_filtered = nn_idx[common_indices, :]\n",
    "nn_dist_filtered = nn_dist[common_indices, :]\n",
    "nn_cells_filtered = nn_cells_formatted[common_indices]"
   ]
  },
  {
   "cell_type": "code",
   "execution_count": null,
   "id": "433b6af2-2669-4096-8adf-12e6f3032d00",
   "metadata": {},
   "outputs": [],
   "source": [
    "# Make sure cell names match.\n",
    "print(np.all(nn_cells_filtered == adata_atac.obs_names))\n",
    "print(np.all(nn_cells_filtered == adata_rna.obs_names))"
   ]
  },
  {
   "cell_type": "code",
   "execution_count": null,
   "id": "4c31444a-83fa-46c9-9394-4b2cddfdae54",
   "metadata": {},
   "outputs": [],
   "source": [
    "#mv.knn_smooth_chrom(adata_atac, nn_idx_filtered, nn_dist_filtered)"
   ]
  }
 ],
 "metadata": {
  "kernelspec": {
   "display_name": "Python 3 (ipykernel)",
   "language": "python",
   "name": "python3"
  },
  "language_info": {
   "codemirror_mode": {
    "name": "ipython",
    "version": 3
   },
   "file_extension": ".py",
   "mimetype": "text/x-python",
   "name": "python",
   "nbconvert_exporter": "python",
   "pygments_lexer": "ipython3",
   "version": "3.11.6"
  }
 },
 "nbformat": 4,
 "nbformat_minor": 5
}
