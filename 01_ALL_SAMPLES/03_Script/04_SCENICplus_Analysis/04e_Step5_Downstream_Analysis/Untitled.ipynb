{
 "cells": [
  {
   "cell_type": "code",
   "execution_count": 2,
   "id": "d7162de5-1521-443f-acd9-ce0ddefbeae8",
   "metadata": {
    "tags": []
   },
   "outputs": [
    {
     "name": "stderr",
     "output_type": "stream",
     "text": [
      "2024-11-05 16:41:18,943\tINFO util.py:154 -- Outdated packages:\n",
      "  ipywidgets==7.7.1 found, needs ipywidgets>=8\n",
      "Run `pip install -U ipywidgets`, then restart the notebook server for rich notebook output.\n"
     ]
    },
    {
     "name": "stdout",
     "output_type": "stream",
     "text": [
      "Help on function plot_perturbation_effect_in_embedding in module scenicplus.simulation:\n",
      "\n",
      "plot_perturbation_effect_in_embedding(perturbed_matrix: 'pd.DataFrame', original_matrix: 'pd.DataFrame', embedding: 'np.ndarray', AUC_kwargs: 'dict[str, Any]' = {}, ax: 'matplotlib.axes | None' = None, grid_offset_frac: 'float' = 0.005, grid_n_cols: 'int' = 25, grid_n_rows: 'int' = 25, grid_n_neighbors: 'int' = 25, eRegulons: 'pd.DataFrame | None' = None, n_cpu: 'int' = 1, calculate_perturbed_auc_values: 'bool' = True)\n",
      "\n"
     ]
    }
   ],
   "source": [
    "from scenicplus.simulation import (\n",
    "    train_gene_expression_models,\n",
    "    simulate_perturbation,\n",
    "    plot_perturbation_effect_in_embedding\n",
    ")\n",
    "\n",
    "help(plot_perturbation_effect_in_embedding)"
   ]
  },
  {
   "cell_type": "code",
   "execution_count": null,
   "id": "b58b8889-4a00-40f9-85d5-53fc204a669c",
   "metadata": {},
   "outputs": [],
   "source": []
  }
 ],
 "metadata": {
  "kernelspec": {
   "display_name": "Python 3 (ipykernel)",
   "language": "python",
   "name": "python3"
  },
  "language_info": {
   "codemirror_mode": {
    "name": "ipython",
    "version": 3
   },
   "file_extension": ".py",
   "mimetype": "text/x-python",
   "name": "python",
   "nbconvert_exporter": "python",
   "pygments_lexer": "ipython3",
   "version": "3.11.6"
  }
 },
 "nbformat": 4,
 "nbformat_minor": 5
}
