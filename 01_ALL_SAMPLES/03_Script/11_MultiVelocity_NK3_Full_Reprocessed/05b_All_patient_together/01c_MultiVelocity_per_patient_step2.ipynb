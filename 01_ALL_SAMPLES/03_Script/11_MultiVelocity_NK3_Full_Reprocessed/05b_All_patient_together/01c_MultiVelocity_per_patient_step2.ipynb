{
 "cells": [
  {
   "cell_type": "markdown",
   "id": "a622389d-2880-44de-80b5-bc0d06edeeaa",
   "metadata": {},
   "source": [
    "## Smoothing gene aggregated peaks by neighbors"
   ]
  },
  {
   "cell_type": "code",
   "execution_count": 1,
   "id": "7cfb446b-6b36-4c9c-8dac-e931683d4cef",
   "metadata": {},
   "outputs": [
    {
     "ename": "NameError",
     "evalue": "name 'np' is not defined",
     "output_type": "error",
     "traceback": [
      "\u001b[0;31m---------------------------------------------------------------------------\u001b[0m",
      "\u001b[0;31mNameError\u001b[0m                                 Traceback (most recent call last)",
      "Cell \u001b[0;32mIn[1], line 2\u001b[0m\n\u001b[1;32m      1\u001b[0m \u001b[38;5;66;03m# Read in Seurat WNN neighbors.\u001b[39;00m\n\u001b[0;32m----> 2\u001b[0m nn_idx \u001b[38;5;241m=\u001b[39m \u001b[43mnp\u001b[49m\u001b[38;5;241m.\u001b[39mloadtxt(os\u001b[38;5;241m.\u001b[39mpath\u001b[38;5;241m.\u001b[39mjoin( PATH_EXPERIMENT_OUTPUT, ANALYSIS_04a0_STEP_NAME,\u001b[38;5;124m\"\u001b[39m\u001b[38;5;124mNeighborhood_Graph/nn_idx.txt\u001b[39m\u001b[38;5;124m\"\u001b[39m), delimiter\u001b[38;5;241m=\u001b[39m\u001b[38;5;124m'\u001b[39m\u001b[38;5;124m,\u001b[39m\u001b[38;5;124m'\u001b[39m)\n\u001b[1;32m      3\u001b[0m nn_dist \u001b[38;5;241m=\u001b[39m np\u001b[38;5;241m.\u001b[39mloadtxt(os\u001b[38;5;241m.\u001b[39mpath\u001b[38;5;241m.\u001b[39mjoin( PATH_EXPERIMENT_OUTPUT, ANALYSIS_04a0_STEP_NAME,\u001b[38;5;124m\"\u001b[39m\u001b[38;5;124mNeighborhood_Graph/nn_dist.txt\u001b[39m\u001b[38;5;124m\"\u001b[39m), delimiter\u001b[38;5;241m=\u001b[39m\u001b[38;5;124m'\u001b[39m\u001b[38;5;124m,\u001b[39m\u001b[38;5;124m'\u001b[39m)\n\u001b[1;32m      4\u001b[0m nn_cells \u001b[38;5;241m=\u001b[39m pd\u001b[38;5;241m.\u001b[39mIndex(pd\u001b[38;5;241m.\u001b[39mread_csv(os\u001b[38;5;241m.\u001b[39mpath\u001b[38;5;241m.\u001b[39mjoin( PATH_EXPERIMENT_OUTPUT, ANALYSIS_04a0_STEP_NAME,\u001b[38;5;124m\"\u001b[39m\u001b[38;5;124mNeighborhood_Graph/nn_cells.txt\u001b[39m\u001b[38;5;124m\"\u001b[39m), header\u001b[38;5;241m=\u001b[39m\u001b[38;5;28;01mNone\u001b[39;00m)[\u001b[38;5;241m0\u001b[39m])\n",
      "\u001b[0;31mNameError\u001b[0m: name 'np' is not defined"
     ]
    }
   ],
   "source": [
    "# Read in Seurat WNN neighbors.\n",
    "nn_idx = np.loadtxt(os.path.join( PATH_EXPERIMENT_OUTPUT, ANALYSIS_04a0_STEP_NAME,\"Neighborhood_Graph/nn_idx.txt\"), delimiter=',')\n",
    "nn_dist = np.loadtxt(os.path.join( PATH_EXPERIMENT_OUTPUT, ANALYSIS_04a0_STEP_NAME,\"Neighborhood_Graph/nn_dist.txt\"), delimiter=',')\n",
    "nn_cells = pd.Index(pd.read_csv(os.path.join( PATH_EXPERIMENT_OUTPUT, ANALYSIS_04a0_STEP_NAME,\"Neighborhood_Graph/nn_cells.txt\"), header=None)[0])\n",
    "\n",
    "# Convert the names in nn_cells to the desired format\n",
    "nn_cells_formatted = pd.Index([f\"{name.split('_')[1]}_{name.split('_')[0]}\" for name in nn_cells])\n"
   ]
  },
  {
   "cell_type": "code",
   "execution_count": null,
   "id": "df63352e-0e26-405a-a5dd-2a027e13c60c",
   "metadata": {},
   "outputs": [],
   "source": [
    "#Reduce the tables to the relevant cells only\n",
    "#Step 1: Find the intersection of adata_rna.obs_names and nn_cells_formatted\n",
    "common_cells = adata_rna.obs_names.intersection(nn_cells_formatted)\n",
    "\n",
    "# Step 2: Get the indices of the common cells in nn_cells_formatted\n",
    "common_indices = [i for i, cell in enumerate(nn_cells_formatted) if cell in common_cells]\n",
    "\n",
    "# Step 3: Filter nn_idx and nn_dist to keep only the rows corresponding to common_indices\n",
    "nn_idx_filtered = nn_idx[common_indices, :]\n",
    "nn_dist_filtered = nn_dist[common_indices, :]\n",
    "nn_cells_filtered = nn_cells_formatted[common_indices]"
   ]
  },
  {
   "cell_type": "code",
   "execution_count": null,
   "id": "433b6af2-2669-4096-8adf-12e6f3032d00",
   "metadata": {},
   "outputs": [],
   "source": [
    "# Make sure cell names match.\n",
    "print(np.all(nn_cells_filtered == adata_atac.obs_names))\n",
    "print(np.all(nn_cells_filtered == adata_rna.obs_names))"
   ]
  },
  {
   "cell_type": "code",
   "execution_count": null,
   "id": "4c31444a-83fa-46c9-9394-4b2cddfdae54",
   "metadata": {},
   "outputs": [],
   "source": [
    "#mv.knn_smooth_chrom(adata_atac, nn_idx_filtered, nn_dist_filtered)"
   ]
  },
  {
   "cell_type": "markdown",
   "id": "50f6e7a7-ab29-4847-9190-b5a12f9079a7",
   "metadata": {},
   "source": [
    "## Test"
   ]
  },
  {
   "cell_type": "code",
   "execution_count": 21,
   "id": "bfc8e25d-f03d-4c88-b8c9-5fc384c4f9bb",
   "metadata": {
    "tags": []
   },
   "outputs": [],
   "source": [
    "import os\n",
    "import scipy\n",
    "import numpy as np\n",
    "import pandas as pd\n",
    "import scanpy as sc\n",
    "import scvelo as scv\n",
    "import multivelo as mv\n",
    "import matplotlib.pyplot as plt\n",
    "import sys\n",
    "import seaborn as sns\n",
    "\n",
    "# Determine the folder in which the code is executed\n",
    "WORKING_DIR = os.getcwd()\n",
    "sys.path.append(os.path.abspath( WORKING_DIR))\n",
    "\n",
    "# Run the params codes\n",
    "%run -i ../../globalParams.py #GlobalParams\n",
    "%run -i ../../sampleParams.py #sampleParams\n",
    "%run -i ./analysisParams.py #AnalysisParams"
   ]
  },
  {
   "cell_type": "code",
   "execution_count": 22,
   "id": "b770a2e2-89b2-4274-8e77-feb9ec2f6f26",
   "metadata": {
    "tags": []
   },
   "outputs": [],
   "source": [
    "SAMPLES_NAMES_LIST = [name for name in os.listdir(PATH_TO_VELOCITY_FOLDER) if os.path.isdir(os.path.join(PATH_TO_VELOCITY_FOLDER, name))]\n"
   ]
  },
  {
   "cell_type": "code",
   "execution_count": 23,
   "id": "7405e659-4ad5-4498-9dca-17d31373524c",
   "metadata": {
    "tags": []
   },
   "outputs": [
    {
     "data": {
      "text/plain": [
       "['CSS1',\n",
       " 'CSS23',\n",
       " 'CSS4',\n",
       " 'CSS7',\n",
       " 'CSS25',\n",
       " 'CSS27',\n",
       " 'CSS21',\n",
       " 'CSS19',\n",
       " 'CSS13',\n",
       " 'CSS16',\n",
       " 'CSS10']"
      ]
     },
     "execution_count": 23,
     "metadata": {},
     "output_type": "execute_result"
    }
   ],
   "source": [
    "SAMPLES_NAMES_LIST"
   ]
  },
  {
   "cell_type": "code",
   "execution_count": null,
   "id": "74de2e25-8eff-4d3a-90bd-96f0e7f4cdea",
   "metadata": {},
   "outputs": [],
   "source": [
    "if DO_EXCEPT_SOME_PATIENTS:\n",
    "    SAMPLES_NAMES_LIST = [sample for sample in SAMPLES_NAMES_LIST if sample not in SAMPLE_NOT_TO_DO]\n",
    "\n"
   ]
  }
 ],
 "metadata": {
  "kernelspec": {
   "display_name": "Python 3 (ipykernel)",
   "language": "python",
   "name": "python3"
  },
  "language_info": {
   "codemirror_mode": {
    "name": "ipython",
    "version": 3
   },
   "file_extension": ".py",
   "mimetype": "text/x-python",
   "name": "python",
   "nbconvert_exporter": "python",
   "pygments_lexer": "ipython3",
   "version": "3.11.6"
  }
 },
 "nbformat": 4,
 "nbformat_minor": 5
}
