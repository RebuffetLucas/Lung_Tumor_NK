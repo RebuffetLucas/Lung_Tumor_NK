{
 "cells": [
  {
   "cell_type": "markdown",
   "id": "0",
   "metadata": {},
   "source": [
    "## Smoothing gene aggregated peaks by neighbors"
   ]
  },
  {
   "cell_type": "code",
   "execution_count": null,
   "id": "1",
   "metadata": {},
   "outputs": [],
   "source": [
    "# Read in Seurat WNN neighbors.\n",
    "nn_idx = np.loadtxt(os.path.join( PATH_EXPERIMENT_OUTPUT, ANALYSIS_04a0_STEP_NAME,\"Neighborhood_Graph/nn_idx.txt\"), delimiter=',')\n",
    "nn_dist = np.loadtxt(os.path.join( PATH_EXPERIMENT_OUTPUT, ANALYSIS_04a0_STEP_NAME,\"Neighborhood_Graph/nn_dist.txt\"), delimiter=',')\n",
    "nn_cells = pd.Index(pd.read_csv(os.path.join( PATH_EXPERIMENT_OUTPUT, ANALYSIS_04a0_STEP_NAME,\"Neighborhood_Graph/nn_cells.txt\"), header=None)[0])\n",
    "\n",
    "# Convert the names in nn_cells to the desired format\n",
    "nn_cells_formatted = pd.Index([f\"{name.split('_')[1]}_{name.split('_')[0]}\" for name in nn_cells])\n"
   ]
  },
  {
   "cell_type": "code",
   "execution_count": null,
   "id": "2",
   "metadata": {},
   "outputs": [],
   "source": [
    "#Reduce the tables to the relevant cells only\n",
    "#Step 1: Find the intersection of adata_rna.obs_names and nn_cells_formatted\n",
    "common_cells = adata_rna.obs_names.intersection(nn_cells_formatted)\n",
    "\n",
    "# Step 2: Get the indices of the common cells in nn_cells_formatted\n",
    "common_indices = [i for i, cell in enumerate(nn_cells_formatted) if cell in common_cells]\n",
    "\n",
    "# Step 3: Filter nn_idx and nn_dist to keep only the rows corresponding to common_indices\n",
    "nn_idx_filtered = nn_idx[common_indices, :]\n",
    "nn_dist_filtered = nn_dist[common_indices, :]\n",
    "nn_cells_filtered = nn_cells_formatted[common_indices]"
   ]
  },
  {
   "cell_type": "code",
   "execution_count": null,
   "id": "3",
   "metadata": {},
   "outputs": [],
   "source": [
    "# Make sure cell names match.\n",
    "print(np.all(nn_cells_filtered == adata_atac.obs_names))\n",
    "print(np.all(nn_cells_filtered == adata_rna.obs_names))"
   ]
  },
  {
   "cell_type": "code",
   "execution_count": null,
   "id": "4",
   "metadata": {},
   "outputs": [],
   "source": [
    "#mv.knn_smooth_chrom(adata_atac, nn_idx_filtered, nn_dist_filtered)"
   ]
  },
  {
   "cell_type": "markdown",
   "id": "5",
   "metadata": {},
   "source": [
    "## Test"
   ]
  },
  {
   "cell_type": "code",
   "execution_count": null,
   "id": "6",
   "metadata": {
    "tags": []
   },
   "outputs": [],
   "source": [
    "import os\n",
    "import scipy\n",
    "import numpy as np\n",
    "import pandas as pd\n",
    "import scanpy as sc\n",
    "import scvelo as scv\n",
    "import multivelo as mv\n",
    "import matplotlib.pyplot as plt\n",
    "import sys\n",
    "import seaborn as sns\n",
    "\n",
    "# Determine the folder in which the code is executed\n",
    "WORKING_DIR = os.getcwd()\n",
    "sys.path.append(os.path.abspath( WORKING_DIR))\n",
    "\n",
    "# Run the params codes\n",
    "%run -i ../../globalParams.py #GlobalParams\n",
    "%run -i ../../sampleParams.py #sampleParams\n",
    "%run -i ./analysisParams.py #AnalysisParams"
   ]
  },
  {
   "cell_type": "code",
   "execution_count": null,
   "id": "7",
   "metadata": {
    "tags": []
   },
   "outputs": [],
   "source": [
    "SAMPLES_NAMES_LIST = [name for name in os.listdir(PATH_TO_VELOCITY_FOLDER) if os.path.isdir(os.path.join(PATH_TO_VELOCITY_FOLDER, name))]\n"
   ]
  },
  {
   "cell_type": "code",
   "execution_count": null,
   "id": "8",
   "metadata": {
    "tags": []
   },
   "outputs": [],
   "source": [
    "SAMPLES_NAMES_LIST"
   ]
  },
  {
   "cell_type": "code",
   "execution_count": null,
   "id": "9",
   "metadata": {},
   "outputs": [],
   "source": [
    "if DO_EXCEPT_SOME_PATIENTS:\n",
    "    SAMPLES_NAMES_LIST = [sample for sample in SAMPLES_NAMES_LIST if sample not in SAMPLE_NOT_TO_DO]\n",
    "\n"
   ]
  }
 ],
 "metadata": {
  "kernelspec": {
   "display_name": "Python 3 (ipykernel)",
   "language": "python",
   "name": "python3"
  },
  "language_info": {
   "codemirror_mode": {
    "name": "ipython",
    "version": 3
   },
   "file_extension": ".py",
   "mimetype": "text/x-python",
   "name": "python",
   "nbconvert_exporter": "python",
   "pygments_lexer": "ipython3",
   "version": "3.11.6"
  }
 },
 "nbformat": 4,
 "nbformat_minor": 5
}
