{
 "cells": [
  {
   "cell_type": "markdown",
   "id": "0",
   "metadata": {},
   "source": [
    "# Running the multiVelocity pipeline one single sample"
   ]
  },
  {
   "cell_type": "markdown",
   "id": "1",
   "metadata": {},
   "source": [
    "## Setting up the environment"
   ]
  },
  {
   "cell_type": "code",
   "execution_count": null,
   "id": "2",
   "metadata": {},
   "outputs": [],
   "source": [
    "import os\n",
    "import scipy\n",
    "import numpy as np\n",
    "import pandas as pd\n",
    "import scanpy as sc\n",
    "import scvelo as scv\n",
    "import multivelo as mv\n",
    "import matplotlib.pyplot as plt\n",
    "import sys\n",
    "import seaborn as sns"
   ]
  },
  {
   "cell_type": "code",
   "execution_count": null,
   "id": "3",
   "metadata": {},
   "outputs": [],
   "source": [
    "# Determine the folder in which the code is executed\n",
    "WORKING_DIR = os.getcwd()\n",
    "sys.path.append(os.path.abspath( WORKING_DIR))\n",
    "\n",
    "# Run the params codes\n",
    "%run -i ../../globalParams.py #GlobalParams\n",
    "%run -i ../../sampleParams.py #sampleParams\n",
    "%run -i ./analysisParams.py #AnalysisParams"
   ]
  },
  {
   "cell_type": "code",
   "execution_count": null,
   "id": "4",
   "metadata": {},
   "outputs": [],
   "source": [
    "# scvelo and panda parameters\n",
    "\n",
    "scv.settings.verbosity = 3\n",
    "scv.settings.presenter_view = True\n",
    "scv.set_figure_params('scvelo')\n",
    "pd.set_option('display.max_columns', 100)\n",
    "pd.set_option('display.max_rows', 200)\n",
    "np.set_printoptions(suppress=True)"
   ]
  },
  {
   "cell_type": "markdown",
   "id": "5",
   "metadata": {},
   "source": [
    "## Reading in unspilced and spliced counts"
   ]
  },
  {
   "cell_type": "code",
   "execution_count": null,
   "id": "6",
   "metadata": {},
   "outputs": [],
   "source": [
    "# Read the adata object\n",
    "#adata = sc.read_h5ad(\"/mnt/DOSI/EVLAB/BIOINFO/BIOINFO_PROJECT/Lung_Basel/01_ALL_SAMPLES/05_Output/04_SCENICplus_Analysis/04b_Step2_Anndata_Prepro_scRNAseq/adata.h5ad\") #Need to improve this\n",
    "adata = sc.read_h5ad( os.path.join( PATH_EXPERIMENT_OUTPUT , ANALYSIS_04b_STEP_NAME , \"adata.h5ad\"))\n",
    "\n",
    "## Update adata name\n",
    "# Create a mapping dictionary called old_to_new_mapping from the old categories to the new categories => This is directly done in analysis params.\n",
    "\n",
    "# Replace the old categories with the new ones\n",
    "adata.obs[CELL_TYPE_COLNAME] = adata.obs[CELL_TYPE_COLNAME].map(old_to_new_mapping)\n",
    "# Update the categories to reflect the new set\n",
    "adata.obs[CELL_TYPE_COLNAME] = adata.obs[CELL_TYPE_COLNAME].astype('category')\n",
    "\n",
    "###################\n",
    "#Simplify the following code in a loop\n",
    "# load dimensional reductions:\n",
    "#RNA = pd.read_csv(\"/mnt/DOSI/EVLAB/BIOINFO/BIOINFO_PROJECT/Lung_Basel/01_ALL_SAMPLES/05_Output/04_SCENICplus_Analysis/04a0_Step0_R_Extract_Metadata/Embeddings/RNA_UMAP_TABLE.csv\")\n",
    "RNA = pd.read_csv(os.path.join( PATH_ANALYSIS_OUTPUT, \"Embeddings/RNA_UMAP_TABLE.csv\"), index_col = 0)\n",
    "RNA.index = [f\"{cell.split('_')[1]}_{cell.split('_')[0]}\" for cell in RNA.index]\n",
    "RNA = RNA.reindex(adata.obs.index)\n",
    "\n",
    "ATAC = pd.read_csv(os.path.join( PATH_ANALYSIS_OUTPUT, \"Embeddings/ATAC_UMAP_TABLE.csv\"), index_col = 0)\n",
    "ATAC.index = [f\"{cell.split('_')[1]}_{cell.split('_')[0]}\" for cell in ATAC.index]\n",
    "ATAC = ATAC.reindex(adata.obs.index)\n",
    "\n",
    "WNN = pd.read_csv(os.path.join( PATH_ANALYSIS_OUTPUT, \"Embeddings/WNN_UMAP_TABLE.csv\"), index_col = 0)\n",
    "WNN.index = [f\"{cell.split('_')[1]}_{cell.split('_')[0]}\" for cell in WNN.index]\n",
    "WNN = WNN.reindex(adata.obs.index)\n",
    "\n",
    "\n",
    "# set them\n",
    "adata.obsm['X_rna_umap'] = RNA.to_numpy()\n",
    "adata.obsm['X_atac_umap'] = ATAC.to_numpy()\n",
    "adata.obsm['X_wnn_umap'] = WNN.to_numpy()\n",
    "###############################\n",
    "\n",
    "#We subset to focus on NK3 populations\n",
    "adata = adata[adata.obs[CELL_TYPE_COLNAME].isin(populations_of_interest)]\n",
    "\n",
    "\n",
    "#Set the seed\n",
    "np.random.seed(1234)"
   ]
  },
  {
   "cell_type": "code",
   "execution_count": null,
   "id": "7",
   "metadata": {
    "tags": []
   },
   "outputs": [],
   "source": [
    "adata.obs"
   ]
  },
  {
   "cell_type": "code",
   "execution_count": null,
   "id": "8",
   "metadata": {},
   "outputs": [],
   "source": [
    "#Load the Loom object\n",
    "# Specify the folder containing the .loom file\n",
    "folder_path = os.path.join(PATH_TO_VELOCITY_FOLDER ,SAMPLE_OF_INTEREST)\n",
    "\n",
    "# Find the .loom file in the folder\n",
    "loom_files = [f for f in os.listdir(folder_path) if f.endswith('.loom')]\n",
    "\n",
    "# Check if there is exactly one .loom file and read it\n",
    "if len(loom_files) == 1:\n",
    "    loom_file_path = os.path.join(folder_path, loom_files[0])\n",
    "    adata_rna = scv.read(loom_file_path, cache=True)\n",
    "    print(f\"Loaded {loom_files[0]}\")\n",
    "else:\n",
    "    print(\"Error: There should be exactly one .loom file in the folder.\")\n",
    "\n",
    "# Modify the observation names\n",
    "adata_rna.obs_names = [x.split(':')[1][:-1] + '-1_' + x.split(':')[0] for x in adata_rna.obs_names]\n",
    "# Ensure variable names are unique\n",
    "adata_rna.var_names_make_unique()"
   ]
  },
  {
   "cell_type": "markdown",
   "id": "9",
   "metadata": {},
   "source": [
    "### Have a quick look at where to put the threshold for total count per cell"
   ]
  },
  {
   "cell_type": "code",
   "execution_count": null,
   "id": "10",
   "metadata": {},
   "outputs": [],
   "source": [
    "# Calculate total counts per cell\n",
    "total_counts = adata_rna.obs['n_counts'] if 'n_counts' in adata_rna.obs else adata_rna.X.sum(axis=1).A1\n",
    "\n",
    "# Calculate the 99th percentile to limit the x-axis\n",
    "x_limit = np.percentile(total_counts, 99)\n",
    "\n",
    "# Plot a histogram of total counts with more bins\n",
    "plt.figure(figsize=(10, 6))\n",
    "sns.histplot(total_counts, bins=100, kde=True)  # Increased bins for more granularity\n",
    "plt.xlabel('Total Counts per Cell')\n",
    "plt.ylabel('Number of Cells')\n",
    "plt.title('Distribution of Total Counts per Cell')\n",
    "plt.axvline(x=ADATA_RNA_MIN, color='red', linestyle='--', label=f\"min_counts={ADATA_RNA_MIN}\")\n",
    "plt.axvline(x=ADATA_RNA_MAX, color='green', linestyle='--', label=f\"max_counts={ADATA_RNA_MAX}\")\n",
    "plt.xlim(0, x_limit)  # Limit the x-axis to the 99th percentile\n",
    "plt.legend()\n",
    "plt.show()\n"
   ]
  },
  {
   "cell_type": "markdown",
   "id": "11",
   "metadata": {},
   "source": [
    "### Apply the  filter on cells"
   ]
  },
  {
   "cell_type": "code",
   "execution_count": null,
   "id": "12",
   "metadata": {},
   "outputs": [],
   "source": [
    "#Apply the filter on cells\n",
    "sc.pp.filter_cells(adata_rna, min_counts=ADATA_RNA_MIN)\n",
    "sc.pp.filter_cells(adata_rna, max_counts=ADATA_RNA_MAX)"
   ]
  },
  {
   "cell_type": "markdown",
   "id": "13",
   "metadata": {},
   "source": [
    "### Keep only the top 1000 genes"
   ]
  },
  {
   "cell_type": "code",
   "execution_count": null,
   "id": "14",
   "metadata": {},
   "outputs": [],
   "source": [
    "# Top 1000 variable genes are used for downstream analyses.\n",
    "scv.pp.filter_and_normalize(adata_rna, min_shared_counts=10, n_top_genes=1000)"
   ]
  },
  {
   "cell_type": "markdown",
   "id": "15",
   "metadata": {},
   "source": [
    "### Compare filtered loom object with the total object"
   ]
  },
  {
   "cell_type": "code",
   "execution_count": null,
   "id": "16",
   "metadata": {},
   "outputs": [],
   "source": [
    "# Find the intersection of observation names\n",
    "common_obs_names = set(adata.obs_names).intersection(adata_rna.obs_names)\n",
    "\n",
    "# Convert to a list if needed\n",
    "common_obs_names = list(common_obs_names)\n",
    "\n",
    "# Output the number of common observation names\n",
    "print(f\"Number of common observation names: {len(common_obs_names)}\")\n",
    "\n",
    "# Optionally, display the common observation names\n",
    "#print(common_obs_names)\n",
    "\n",
    "# Filter adata.obs for rows where the sample is \"sample of interest and get the row names\n",
    "sample_cells = adata.obs_names[adata.obs['sample'] == SAMPLE_OF_INTEREST]\n",
    "\n",
    "# Convert to a list if needed\n",
    "sample_cells = list(sample_cells)\n",
    "\n",
    "# Output the row names\n",
    "print(f\"Number of cells in the same patient in adata object: {len(sample_cells)}\")\n"
   ]
  },
  {
   "cell_type": "markdown",
   "id": "17",
   "metadata": {},
   "source": [
    "### Keep only the data that are present in the final object and insert the metadata in adata_rna"
   ]
  },
  {
   "cell_type": "code",
   "execution_count": null,
   "id": "18",
   "metadata": {},
   "outputs": [],
   "source": [
    "# Step 1: Subset adata_rna to only include common observation names\n",
    "adata_rna = adata_rna[adata_rna.obs_names.isin(common_obs_names)].copy()\n",
    "\n",
    "# Step 2: Create adata.obs2 containing only common observation names from adata.obs\n",
    "adata_obs2 = adata.obs.loc[adata.obs_names.isin(common_obs_names)].copy()\n",
    "\n",
    "# Step 3: Reorder adata_obs2 to match the order in adata_rna\n",
    "adata_obs2 = adata_obs2.reindex(adata_rna.obs_names)\n",
    "\n",
    "# Step 4: Add the information from adata_obs2 to adata_rna.obs\n",
    "adata_rna.obs = pd.concat([adata_rna.obs, adata_obs2], axis=1)"
   ]
  },
  {
   "cell_type": "markdown",
   "id": "19",
   "metadata": {},
   "source": [
    "### Focus on pops of interest for trajectories"
   ]
  },
  {
   "cell_type": "code",
   "execution_count": null,
   "id": "20",
   "metadata": {},
   "outputs": [],
   "source": [
    "adata_rna = adata_rna[adata_rna.obs[CELL_TYPE_COLNAME].isin(populations_of_interest)]"
   ]
  },
  {
   "cell_type": "markdown",
   "id": "21",
   "metadata": {},
   "source": [
    "## Preprocessing the ATAC counts"
   ]
  },
  {
   "cell_type": "code",
   "execution_count": null,
   "id": "22",
   "metadata": {},
   "outputs": [],
   "source": [
    "#Load the atac object\n",
    "# Specify the folder containing the .loom file\n",
    "folder_path = os.path.join(\n",
    "    PATH_TO_VELOCITY_FOLDER,\n",
    "    SAMPLE_OF_INTEREST,\n",
    "    f\"{SAMPLE_OF_INTEREST}_filtered_feature_bc_matrix\"\n",
    ")\n",
    "\n",
    "adata_atac = sc.read_10x_mtx(folder_path, var_names='gene_symbols', cache=True, gex_only=False)\n",
    "adata_atac = adata_atac[:,adata_atac.var['feature_types'] == \"Peaks\"]"
   ]
  },
  {
   "cell_type": "code",
   "execution_count": null,
   "id": "23",
   "metadata": {},
   "outputs": [],
   "source": [
    "adata_atac"
   ]
  },
  {
   "cell_type": "code",
   "execution_count": null,
   "id": "24",
   "metadata": {},
   "outputs": [],
   "source": [
    "from comm import create_comm"
   ]
  },
  {
   "cell_type": "code",
   "execution_count": null,
   "id": "25",
   "metadata": {},
   "outputs": [],
   "source": [
    "# We aggregate peaks around each gene as well as those that have high correlations with promoter peak or gene expression.\n",
    "# Peak annotation contains the metadata for all peaks.\n",
    "# Feature linkage contains pairs of correlated genomic features.\n",
    "adata_atac = mv.aggregate_peaks_10x(adata_atac,\n",
    "                                    os.path.join(   PATH_TO_VELOCITY_FOLDER,    SAMPLE_OF_INTEREST,   f\"{SAMPLE_OF_INTEREST}_atac_peak_annotation.tsv\"),\n",
    "                                    os.path.join(   PATH_TO_VELOCITY_FOLDER,    SAMPLE_OF_INTEREST,   f\"{SAMPLE_OF_INTEREST}_feature_linkage.bedpe\")\n",
    ")\n",
    "                        "
   ]
  },
  {
   "cell_type": "code",
   "execution_count": null,
   "id": "26",
   "metadata": {},
   "outputs": [],
   "source": [
    "# Let's examine the total count distribution and remove outliers.\n",
    "plt.hist(adata_atac.X.sum(1), bins=100, range=(0, ADATA_ATAC_MAX));"
   ]
  },
  {
   "cell_type": "code",
   "execution_count": null,
   "id": "27",
   "metadata": {},
   "outputs": [],
   "source": [
    "sc.pp.filter_cells(adata_atac, min_counts= ADATA_ATAC_MIN)\n",
    "sc.pp.filter_cells(adata_atac, max_counts= ADATA_ATAC_MAX)"
   ]
  },
  {
   "cell_type": "code",
   "execution_count": null,
   "id": "28",
   "metadata": {},
   "outputs": [],
   "source": [
    "# We normalize aggregated peaks with TF-IDF.\n",
    "mv.tfidf_norm(adata_atac)"
   ]
  },
  {
   "cell_type": "markdown",
   "id": "29",
   "metadata": {},
   "source": [
    "## Finding shared barcodes and features between RNA and ATAC"
   ]
  },
  {
   "cell_type": "code",
   "execution_count": null,
   "id": "30",
   "metadata": {},
   "outputs": [],
   "source": [
    "# Update obs_names by adding \"_SAMPLE_OF_INTEREST\" at the end of each barcode\n",
    "adata_atac.obs_names = [f\"{barcode}_{SAMPLE_OF_INTEREST}\" for barcode in adata_atac.obs_names]\n",
    "\n",
    "# Verify the changes\n",
    "#print(adata_atac.obs_names[:5])  # Display the first few updated names for confirmation\n"
   ]
  },
  {
   "cell_type": "code",
   "execution_count": null,
   "id": "31",
   "metadata": {},
   "outputs": [],
   "source": [
    "shared_cells = pd.Index(np.intersect1d(adata_rna.obs_names, adata_atac.obs_names))\n",
    "shared_genes = pd.Index(np.intersect1d(adata_rna.var_names, adata_atac.var_names))\n",
    "len(shared_cells), len(shared_genes)"
   ]
  },
  {
   "cell_type": "markdown",
   "id": "32",
   "metadata": {},
   "source": [
    "## Reload the data in and carry on with a subset of cells"
   ]
  },
  {
   "cell_type": "code",
   "execution_count": null,
   "id": "33",
   "metadata": {},
   "outputs": [],
   "source": [
    "# Reloading the adata_rna and adding its info\n",
    "#Load the Loom object\n",
    "# Specify the folder containing the .loom file\n",
    "folder_path = os.path.join(PATH_TO_VELOCITY_FOLDER ,SAMPLE_OF_INTEREST)\n",
    "\n",
    "# Find the .loom file in the folder\n",
    "loom_files = [f for f in os.listdir(folder_path) if f.endswith('.loom')]\n",
    "\n",
    "# Check if there is exactly one .loom file and read it\n",
    "if len(loom_files) == 1:\n",
    "    loom_file_path = os.path.join(folder_path, loom_files[0])\n",
    "    adata_rna = scv.read(loom_file_path, cache=True)\n",
    "    print(f\"Loaded {loom_files[0]}\")\n",
    "else:\n",
    "    print(\"Error: There should be exactly one .loom file in the folder.\")\n",
    "\n",
    "# Modify the observation names\n",
    "adata_rna.obs_names = [x.split(':')[1][:-1] + '-1_' + x.split(':')[0] for x in adata_rna.obs_names]\n",
    "# Ensure variable names are unique\n",
    "adata_rna.var_names_make_unique()\n",
    "\n",
    "## Adding the metadata in\n",
    "# Find the intersection of observation names\n",
    "common_obs_names = set(adata.obs_names).intersection(adata_rna.obs_names)\n",
    "\n",
    "# Convert to a list if needed\n",
    "common_obs_names = list(common_obs_names)\n",
    "\n",
    "# Output the number of common observation names\n",
    "print(f\"Number of common observation names: {len(common_obs_names)}\")\n",
    "\n",
    "# Optionally, display the common observation names\n",
    "#print(common_obs_names)\n",
    "\n",
    "# Filter adata.obs for rows where the sample is \"sample of interest and get the row names\n",
    "sample_cells = adata.obs_names[adata.obs['sample'] == SAMPLE_OF_INTEREST]\n",
    "\n",
    "# Convert to a list if needed\n",
    "sample_cells = list(sample_cells)\n",
    "\n",
    "# Output the row names\n",
    "print(f\"Number of cells in the same patient in adata object: {len(sample_cells)}\")\n",
    "\n",
    "# Step 1: Subset adata_rna to only include common observation names\n",
    "adata_rna = adata_rna[adata_rna.obs_names.isin(common_obs_names)].copy()\n",
    "\n",
    "# Step 2: Create adata.obs2 containing only common observation names from adata.obs\n",
    "adata_obs2 = adata.obs.loc[adata.obs_names.isin(common_obs_names)].copy()\n",
    "\n",
    "# Step 3: Reorder adata_obs2 to match the order in adata_rna\n",
    "adata_obs2 = adata_obs2.reindex(adata_rna.obs_names)\n",
    "\n",
    "# Step 4: Add the information from adata_obs2 to adata_rna.obs\n",
    "adata_rna.obs = pd.concat([adata_rna.obs, adata_obs2], axis=1)"
   ]
  },
  {
   "cell_type": "code",
   "execution_count": null,
   "id": "34",
   "metadata": {},
   "outputs": [],
   "source": [
    "#Subsetting the two objects to keep only the cells and genes of interest\n",
    "adata_rna = adata_rna[shared_cells, shared_genes]\n",
    "adata_atac = adata_atac[shared_cells, shared_genes]"
   ]
  },
  {
   "cell_type": "code",
   "execution_count": null,
   "id": "35",
   "metadata": {},
   "outputs": [],
   "source": [
    "#Running standard procedure\n",
    "scv.pp.normalize_per_cell(adata_rna)\n",
    "scv.pp.log1p(adata_rna)\n",
    "scv.pp.moments(adata_rna, n_pcs=30, n_neighbors=50)"
   ]
  },
  {
   "cell_type": "code",
   "execution_count": null,
   "id": "36",
   "metadata": {},
   "outputs": [],
   "source": [
    "#Make sure that data annotation is categorial\n",
    "adata_rna.obs[CELL_TYPE_COLNAME] = adata_rna.obs[CELL_TYPE_COLNAME].astype('category')"
   ]
  },
  {
   "cell_type": "code",
   "execution_count": null,
   "id": "37",
   "metadata": {},
   "outputs": [],
   "source": [
    "scv.tl.umap(adata_rna)\n",
    "scv.pl.umap(adata_rna, color= CELL_TYPE_COLNAME)"
   ]
  },
  {
   "cell_type": "code",
   "execution_count": null,
   "id": "38",
   "metadata": {},
   "outputs": [],
   "source": [
    "import scvelo as scv\n",
    "\n",
    "# Ensure that the color map is defined for the specific clusters\n",
    "cluster_color_map = dict(zip(cluster_names, color_codes))\n",
    "\n",
    "# Optionally, add titles and labels for better visualization\n",
    "scv.pl.umap(\n",
    "    adata_rna, \n",
    "    color=CELL_TYPE_COLNAME, \n",
    "    palette=cluster_color_map, \n",
    "    size=50, \n",
    "    legend_loc='right', \n",
    "    legend_fontsize=10,\n",
    "    title='UMAP of Cell Types', \n",
    "    xlabel='UMAP 1', \n",
    "    ylabel='UMAP 2', \n",
    "    frameon=False\n",
    ")\n"
   ]
  },
  {
   "cell_type": "code",
   "execution_count": null,
   "id": "39",
   "metadata": {},
   "outputs": [],
   "source": [
    "#Inject WNN UMAP dimensions in the object\n",
    "WNN = pd.read_csv(os.path.join( PATH_ANALYSIS_OUTPUT, \"Embeddings/WNN_UMAP_TABLE.csv\"), index_col = 0)\n",
    "# Modify the row names to the desired format\n",
    "WNN.index = [f\"{cell.split('_')[1]}_{cell.split('_')[0]}\" for cell in WNN.index]\n",
    "WNN = WNN.reindex(adata_rna.obs.index)\n",
    "\n",
    "#Inject into the object\n",
    "# set them in the umap slot\n",
    "adata_rna.obsm['X_umap'] = WNN.to_numpy()"
   ]
  },
  {
   "cell_type": "code",
   "execution_count": null,
   "id": "40",
   "metadata": {},
   "outputs": [],
   "source": [
    "# Plot the UMAP using the 'X_wnn_umap' embedding\n",
    "# Optionally, add titles and labels for better visualization\n",
    "scv.pl.umap(\n",
    "    adata_rna, \n",
    "    color=CELL_TYPE_COLNAME, \n",
    "    palette=cluster_color_map, \n",
    "    size=50, \n",
    "    legend_loc='right', \n",
    "    legend_fontsize=10,\n",
    "    title='WNN UMAP of Cell Types', \n",
    "    xlabel='UMAP 1', \n",
    "    ylabel='UMAP 2', \n",
    "    frameon=False\n",
    ")\n"
   ]
  },
  {
   "cell_type": "markdown",
   "id": "41",
   "metadata": {},
   "source": [
    "## Saving the filtered cells"
   ]
  },
  {
   "cell_type": "code",
   "execution_count": null,
   "id": "42",
   "metadata": {},
   "outputs": [],
   "source": [
    "# Write out filtered cells and prepare to run Seurat WNN --> R script can be found on Github.\n",
    "# Construct the file path\n",
    "file_path = os.path.join(\n",
    "    PATH_ANALYSIS_OUTPUT, \n",
    "    \"Out_01a_Filteredcells_per_indiv_sample\", \"filtered_cells\",\n",
    "    f\"{SAMPLE_OF_INTEREST}_filtered_cells.txt\"\n",
    ")\n",
    "\n",
    "# Create directories if they don't exist\n",
    "os.makedirs(os.path.dirname(file_path), exist_ok=True)\n",
    "\n",
    "# Save the obs_names to the specified file path\n",
    "adata_rna.obs_names.to_frame().to_csv(file_path, header=False, index=False)\n",
    "\n",
    "# Print the file path to confirm where the file was saved\n",
    "print(f\"Filtered cells saved to: {file_path}\")\n"
   ]
  },
  {
   "cell_type": "code",
   "execution_count": null,
   "id": "43",
   "metadata": {
    "tags": []
   },
   "outputs": [],
   "source": [
    "#save the adata_rna and adata_atac objects\n",
    "# Construct the file path\n",
    "file_path = os.path.join(\n",
    "    PATH_ANALYSIS_OUTPUT, \n",
    "    \"Out_01a_Filteredcells_per_indiv_sample\", \"adata_rna\",\n",
    "    f\"{SAMPLE_OF_INTEREST}_adata_rna.h5ad\"\n",
    ")\n",
    "\n",
    "# Create directories if they don't exist\n",
    "os.makedirs(os.path.dirname(file_path), exist_ok=True)\n",
    "\n",
    "\n",
    "# Save the obs_names to the specified file path\n",
    "adata_rna.write(file_path)\n",
    "\n",
    "#save the adata_rna and adata_atac objects\n",
    "# Construct the file path\n",
    "file_path = os.path.join(\n",
    "    PATH_ANALYSIS_OUTPUT, \n",
    "    \"Out_01a_Filteredcells_per_indiv_sample\", \"adata_atac\",\n",
    "    f\"{SAMPLE_OF_INTEREST}_adata_atac.h5ad\"\n",
    ")\n",
    "\n",
    "# Create directories if they don't exist\n",
    "os.makedirs(os.path.dirname(file_path), exist_ok=True)\n",
    "\n",
    "# Save the obs_names to the specified file path\n",
    "adata_atac.write(file_path)"
   ]
  },
  {
   "cell_type": "markdown",
   "id": "44",
   "metadata": {},
   "source": [
    "## Smoothing gene aggregated peaks by neighbors"
   ]
  },
  {
   "cell_type": "code",
   "execution_count": null,
   "id": "45",
   "metadata": {},
   "outputs": [],
   "source": [
    "# Read in Seurat WNN neighbors.\n",
    "nn_idx = np.loadtxt(os.path.join( PATH_TO_THE_Out_01b_Neighborhood_Graph_Per_Indiv, SAMPLE_OF_INTEREST,\"nn_idx.txt\"), delimiter=',')\n",
    "nn_dist = np.loadtxt(os.path.join(PATH_TO_THE_Out_01b_Neighborhood_Graph_Per_Indiv, SAMPLE_OF_INTEREST,\"nn_dist.txt\"), delimiter=',')\n",
    "nn_cells = pd.Index(pd.read_csv(os.path.join( PATH_TO_THE_Out_01b_Neighborhood_Graph_Per_Indiv, SAMPLE_OF_INTEREST,\"nn_cells.txt\"), header=None)[0])\n",
    "\n",
    "# Make sure cell names match.\n",
    "np.all(nn_cells == adata_atac.obs_names)"
   ]
  },
  {
   "cell_type": "code",
   "execution_count": null,
   "id": "46",
   "metadata": {},
   "outputs": [],
   "source": [
    "mv.knn_smooth_chrom(adata_atac, nn_idx, nn_dist)"
   ]
  },
  {
   "cell_type": "markdown",
   "id": "47",
   "metadata": {},
   "source": [
    "## Running multi-omic dynamical model"
   ]
  },
  {
   "cell_type": "code",
   "execution_count": null,
   "id": "48",
   "metadata": {},
   "outputs": [],
   "source": [
    "#This will take a while. Parallelization is high recommended.\n",
    "mv.settings.VERBOSITY = 0\n",
    "\n",
    "adata_result = mv.recover_dynamics_chrom(adata_rna,\n",
    "                                         adata_atac,\n",
    "                                         max_iter=5,\n",
    "                                         init_mode=\"invert\",\n",
    "                                         parallel=True,\n",
    "                                         save_plot=False,\n",
    "                                         rna_only=False,\n",
    "                                         fit=True,\n",
    "                                         n_anchors=500,\n",
    "                                         extra_color_key=CELL_TYPE_COLNAME)"
   ]
  },
  {
   "cell_type": "code",
   "execution_count": null,
   "id": "49",
   "metadata": {},
   "outputs": [],
   "source": [
    "# Save the result for use later on\n",
    "# Construct the file path\n",
    "file_path = os.path.join(\n",
    "    PATH_ANALYSIS_OUTPUT,\"Out_01c_MultiVeloAnalysis\" ,\"multi_velo_results\",\n",
    "    f\"{SAMPLE_OF_INTEREST}_multivelo_result.h5ad\"\n",
    ")\n",
    "\n",
    "# Save the AnnData object to the specified file path\n",
    "adata_result.write(file_path)\n",
    "\n",
    "# Print the file path to confirm the save location\n",
    "print(f\"Result saved to: {file_path}\")"
   ]
  },
  {
   "cell_type": "code",
   "execution_count": null,
   "id": "50",
   "metadata": {},
   "outputs": [],
   "source": [
    "# Construct the file path for saving the plot\n",
    "file_path = os.path.join(\n",
    "    PATH_ANALYSIS_OUTPUT, \n",
    "    \"Figures/Quality_metrics_Plots\", \n",
    "    f\"{SAMPLE_OF_INTEREST}_Plot1.pdf\"\n",
    ")\n",
    "\n",
    "# Create the directories if they don't exist\n",
    "os.makedirs(os.path.dirname(file_path), exist_ok=True)\n",
    "\n",
    "mv.pie_summary(adata_result)\n",
    "\n",
    "# Generate the pie summary plot\n",
    "mv.pie_summary(adata_result)\n",
    "\n",
    "# Save the current figure to the specified file path\n",
    "plt.savefig(file_path, format='pdf')\n",
    "\n",
    "# Close the figure to free memory\n",
    "plt.close()"
   ]
  },
  {
   "cell_type": "code",
   "execution_count": null,
   "id": "51",
   "metadata": {},
   "outputs": [],
   "source": [
    "# Construct the file path for saving the plot\n",
    "file_path = os.path.join(\n",
    "    PATH_ANALYSIS_OUTPUT, \n",
    "    \"Figures/Quality_metrics_Plots\", \n",
    "    f\"{SAMPLE_OF_INTEREST}_Plot2.pdf\"\n",
    ")\n",
    "\n",
    "# Create the directories if they don't exist\n",
    "os.makedirs(os.path.dirname(file_path), exist_ok=True)\n",
    "\n",
    "\n",
    "# Generate the switch time summary plot\n",
    "mv.switch_time_summary(adata_result)\n",
    "plt.xticks(rotation=45)  # Rotate the labels by 45 degrees (adjust the angle as needed)\n",
    "\n",
    "# Rotate the x-axis labels\n",
    "mv.switch_time_summary(adata_result)\n",
    "plt.xticks(rotation=45)  # Rotate the labels by 45 degrees (adjust the angle as needed)\n",
    "# Save the current figure to the specified file path\n",
    "plt.savefig(file_path, format='pdf')\n",
    "\n",
    "# Close the figure to free memory\n",
    "plt.close()"
   ]
  },
  {
   "cell_type": "code",
   "execution_count": null,
   "id": "52",
   "metadata": {},
   "outputs": [],
   "source": [
    "# Construct the file path for saving the plot\n",
    "file_path = os.path.join(\n",
    "    PATH_ANALYSIS_OUTPUT, \n",
    "    \"Figures/Quality_metrics_Plots\", \n",
    "    f\"{SAMPLE_OF_INTEREST}_Plot3.pdf\"\n",
    ")\n",
    "\n",
    "# Create the directories if they don't exist\n",
    "os.makedirs(os.path.dirname(file_path), exist_ok=True)\n",
    "\n",
    "mv.likelihood_plot(adata_result)\n",
    "\n",
    "# Generate the pie summary plot\n",
    "mv.likelihood_plot(adata_result)\n",
    "\n",
    "# Save the current figure to the specified file path\n",
    "plt.savefig(file_path, format='pdf')\n",
    "\n",
    "# Close the figure to free memory\n",
    "plt.close()\n"
   ]
  },
  {
   "cell_type": "markdown",
   "id": "53",
   "metadata": {},
   "source": [
    "## Computing velocity stream and latent time"
   ]
  },
  {
   "cell_type": "code",
   "execution_count": null,
   "id": "54",
   "metadata": {},
   "outputs": [],
   "source": [
    "mv.velocity_graph(adata_result)\n",
    "mv.latent_time(adata_result)"
   ]
  },
  {
   "cell_type": "code",
   "execution_count": null,
   "id": "55",
   "metadata": {},
   "outputs": [],
   "source": [
    "# Construct the file path for saving the plot\n",
    "file_path = os.path.join(\n",
    "    PATH_ANALYSIS_OUTPUT, \n",
    "    \"Figures/Velocity_streams_per_individuals\", \n",
    "    f\"{SAMPLE_OF_INTEREST}_Velostream.svg\"\n",
    ")\n",
    "\n",
    "# Create the directories if they don't exist\n",
    "os.makedirs(os.path.dirname(file_path), exist_ok=True)\n",
    "\n",
    "# Generate and save the velocity embedding stream plot\n",
    "mv.velocity_embedding_stream(adata_result, basis='umap', color=CELL_TYPE_COLNAME, save=file_path)\n",
    "\n",
    "# Confirm the plot has been saved\n",
    "print(f\"Velocity stream plot saved to: {file_path}\")"
   ]
  },
  {
   "cell_type": "code",
   "execution_count": null,
   "id": "56",
   "metadata": {},
   "outputs": [],
   "source": [
    "# Construct the file path for saving the plot\n",
    "file_path = os.path.join(\n",
    "    PATH_ANALYSIS_OUTPUT, \n",
    "    \"Figures/Velocity_streams_per_pseudotime\", \n",
    "    f\"{SAMPLE_OF_INTEREST}_Velostream_pseudotime.pdf\"\n",
    ")\n",
    "\n",
    "# Create the directories if they don't exist\n",
    "os.makedirs(os.path.dirname(file_path), exist_ok=True)\n",
    "\n",
    "scv.pl.scatter(adata_result, color='latent_time', color_map='gnuplot', size=80, save=file_path)\n",
    "\n",
    "# Confirm the plot has been saved\n",
    "print(f\"Velocity stream by pseudotime plot saved to: {file_path}\")"
   ]
  },
  {
   "cell_type": "markdown",
   "id": "57",
   "metadata": {},
   "source": [
    "# Examine some example genes"
   ]
  },
  {
   "cell_type": "code",
   "execution_count": null,
   "id": "58",
   "metadata": {},
   "outputs": [],
   "source": [
    "# Find the intersection of GENE_LIST_OF_INTEREST and adata_result.var_names\n",
    "gene_list = list(set(GENE_LIST_OF_INTEREST).intersection(adata_result.var_names))"
   ]
  },
  {
   "cell_type": "markdown",
   "id": "59",
   "metadata": {
    "tags": []
   },
   "source": [
    "## Plot accessibility and expression against gene time"
   ]
  },
  {
   "cell_type": "markdown",
   "id": "60",
   "metadata": {
    "tags": []
   },
   "source": [
    "### Heavy code version"
   ]
  },
  {
   "cell_type": "code",
   "execution_count": null,
   "id": "61",
   "metadata": {},
   "outputs": [],
   "source": [
    "# Accessibility/expression by gene time, colored by the four potential states.\n",
    "# The solid black curve indicates anchors.\n",
    "# Construct the file path for saving the plot\n",
    "file_path = os.path.join(\n",
    "    PATH_ANALYSIS_OUTPUT, \n",
    "    \"Figures/Downstream_Genes_Analysis/Accessibility_Expression_Against_Gene_Time\", \n",
    "    f\"{SAMPLE_OF_INTEREST}_Accessibility_Expression_Against_Gene_Time.pdf\"\n",
    ")\n",
    "\n",
    "# Create the directories if they don't exist\n",
    "os.makedirs(os.path.dirname(file_path), exist_ok=True)\n",
    "\n",
    "mv.dynamic_plot(adata_result, gene_list, color_by='state', axis_on=False, frame_on=False)\n",
    "\n",
    "# Save the current figure to the specified file path\n",
    "plt.savefig(file_path, format='pdf')\n",
    "\n",
    "# Close the figure to free memory\n",
    "plt.close()\n"
   ]
  },
  {
   "cell_type": "code",
   "execution_count": null,
   "id": "62",
   "metadata": {},
   "outputs": [],
   "source": [
    "# Accessibility/expression by gene time, colored by the four potential states.\n",
    "# The solid black curve indicates anchors.\n",
    "# Construct the file path for saving the plot\n",
    "file_path = os.path.join(\n",
    "    PATH_ANALYSIS_OUTPUT, \n",
    "    \"Figures/Downstream_Genes_Analysis/Velocity_Against_Gene_Time\", \n",
    "    f\"{SAMPLE_OF_INTEREST}_Velocity_Against_Gene_Time.pdf\"\n",
    ")\n",
    "\n",
    "# Create the directories if they don't exist\n",
    "os.makedirs(os.path.dirname(file_path), exist_ok=True)\n",
    "mv.dynamic_plot(adata_result, gene_list, color_by='state', by='velocity', axis_on=False, frame_on=False)\n",
    "# Save the current figure to the specified file path\n",
    "plt.savefig(file_path, format='pdf')\n",
    "\n",
    "# Close the figure to free memory\n",
    "plt.close()\n"
   ]
  },
  {
   "cell_type": "code",
   "execution_count": null,
   "id": "63",
   "metadata": {},
   "outputs": [],
   "source": [
    "# Accessibility/expression by gene time, colored by the four potential states.\n",
    "# The solid black curve indicates anchors.\n",
    "# Construct the file path for saving the plot\n",
    "file_path = os.path.join(\n",
    "    PATH_ANALYSIS_OUTPUT, \n",
    "    \"Figures/Downstream_Genes_Analysis/Accessibility_Expression_Against_Shared_Latent_Time\", \n",
    "    f\"{SAMPLE_OF_INTEREST}_Accessibility_Expression_Against_Shared_Latent_Time.pdf\"\n",
    ")\n",
    "\n",
    "# Create the directories if they don't exist\n",
    "os.makedirs(os.path.dirname(file_path), exist_ok=True)\n",
    "mv.dynamic_plot(adata_result, gene_list, color_by=CELL_TYPE_COLNAME, gene_time=False, axis_on=False, frame_on=False)\n",
    "# Save the current figure to the specified file path\n",
    "plt.savefig(file_path, format='pdf')\n",
    "\n",
    "# Close the figure to free memory\n",
    "plt.close()\n"
   ]
  },
  {
   "cell_type": "code",
   "execution_count": null,
   "id": "64",
   "metadata": {},
   "outputs": [],
   "source": [
    "# Accessibility/expression by gene time, colored by the four potential states.\n",
    "# The solid black curve indicates anchors.\n",
    "# Construct the file path for saving the plot\n",
    "file_path = os.path.join(\n",
    "    PATH_ANALYSIS_OUTPUT, \n",
    "    \"Figures/Downstream_Genes_Analysis/unspliced_unspliced\", \n",
    "    f\"{SAMPLE_OF_INTEREST}_unspliced_unspliced.pdf\"\n",
    ")\n",
    "\n",
    "# Create the directories if they don't exist\n",
    "os.makedirs(os.path.dirname(file_path), exist_ok=True)\n",
    "# Unspliced-spliced phase portraits, colored by celltype.\n",
    "mv.scatter_plot(adata_result, gene_list, color_by=CELL_TYPE_COLNAME, by='us', axis_on=False, frame_on=False)\n",
    "\n",
    "# Save the current figure to the specified file path\n",
    "plt.savefig(file_path, format='pdf')\n",
    "# Close the figure to free memory\n",
    "plt.close()\n"
   ]
  },
  {
   "cell_type": "code",
   "execution_count": null,
   "id": "65",
   "metadata": {},
   "outputs": [],
   "source": [
    "# Accessibility/expression by gene time, colored by the four potential states.\n",
    "# The solid black curve indicates anchors.\n",
    "# Construct the file path for saving the plot\n",
    "file_path = os.path.join(\n",
    "    PATH_ANALYSIS_OUTPUT, \n",
    "    \"Figures/Downstream_Genes_Analysis/Unspliced_spliced\", \n",
    "    f\"{SAMPLE_OF_INTEREST}_Unspliced_spliced.pdf\"\n",
    ")\n",
    "\n",
    "# Create the directories if they don't exist\n",
    "os.makedirs(os.path.dirname(file_path), exist_ok=True)\n",
    "# Unspliced-spliced phase portraits, colored by celltype.\n",
    "mv.scatter_plot(adata_result, gene_list, color_by='c', by='us', cmap='coolwarm', title_more_info=True, axis_on=False, frame_on=False)\n",
    "\n",
    "# Save the current figure to the specified file path\n",
    "plt.savefig(file_path, format='pdf')\n",
    "# Close the figure to free memory\n",
    "plt.close()"
   ]
  },
  {
   "cell_type": "code",
   "execution_count": null,
   "id": "66",
   "metadata": {},
   "outputs": [],
   "source": [
    "# Accessibility/expression by gene time, colored by the four potential states.\n",
    "# The solid black curve indicates anchors.\n",
    "# Construct the file path for saving the plot\n",
    "file_path = os.path.join(\n",
    "    PATH_ANALYSIS_OUTPUT, \n",
    "    \"Figures/Downstream_Genes_Analysis/Chromatin_unspliced\", \n",
    "    f\"{SAMPLE_OF_INTEREST}_Chromatin_unspliced.pdf\"\n",
    ")\n",
    "\n",
    "# Create the directories if they don't exist\n",
    "os.makedirs(os.path.dirname(file_path), exist_ok=True)\n",
    "# Unspliced-spliced phase portraits, colored by celltype.\n",
    "mv.scatter_plot(adata_result, gene_list, color_by=CELL_TYPE_COLNAME, by='cu', axis_on=False, frame_on=False)\n",
    "\n",
    "# Save the current figure to the specified file path\n",
    "plt.savefig(file_path, format='pdf')\n",
    "# Close the figure to free memory\n",
    "plt.close()"
   ]
  },
  {
   "cell_type": "code",
   "execution_count": null,
   "id": "67",
   "metadata": {},
   "outputs": [],
   "source": [
    "# Accessibility/expression by gene time, colored by the four potential states.\n",
    "# The solid black curve indicates anchors.\n",
    "# Construct the file path for saving the plot\n",
    "file_path = os.path.join(\n",
    "    PATH_ANALYSIS_OUTPUT, \n",
    "    \"Figures/Downstream_Genes_Analysis/3Dphaseportraits\", \n",
    "    f\"{SAMPLE_OF_INTEREST}_3Dphaseportraits.pdf\"\n",
    ")\n",
    "\n",
    "# Create the directories if they don't exist\n",
    "os.makedirs(os.path.dirname(file_path), exist_ok=True)\n",
    "# Unspliced-spliced phase portraits, colored by celltype.\n",
    "mv.scatter_plot(adata_result, gene_list, color_by=CELL_TYPE_COLNAME, by='cus', axis_on=False, downsample=2)\n",
    "# Save the current figure to the specified file path\n",
    "plt.savefig(file_path, format='pdf')\n",
    "# Close the figure to free memory\n",
    "plt.close()"
   ]
  },
  {
   "cell_type": "code",
   "execution_count": null,
   "id": "68",
   "metadata": {},
   "outputs": [],
   "source": [
    "# Accessibility/expression by gene time, colored by the four potential states.\n",
    "# The solid black curve indicates anchors.\n",
    "# Construct the file path for saving the plot\n",
    "file_path = os.path.join(\n",
    "    PATH_ANALYSIS_OUTPUT, \n",
    "    \"Figures/Downstream_Genes_Analysis/Arrow1\", \n",
    "    f\"{SAMPLE_OF_INTEREST}_Arrow1.pdf\"\n",
    ")\n",
    "\n",
    "# Create the directories if they don't exist\n",
    "os.makedirs(os.path.dirname(file_path), exist_ok=True)\n",
    "# Unspliced-spliced phase portraits, colored by celltype.\n",
    "mv.scatter_plot(adata_result, gene_list, color_by=CELL_TYPE_COLNAME, by='us', axis_on=False, frame_on=False, downsample=2, velocity_arrows=True)\n",
    "# Save the current figure to the specified file path\n",
    "plt.savefig(file_path, format='pdf')\n",
    "# Close the figure to free memory\n",
    "plt.close()"
   ]
  },
  {
   "cell_type": "code",
   "execution_count": null,
   "id": "69",
   "metadata": {},
   "outputs": [],
   "source": [
    "# Accessibility/expression by gene time, colored by the four potential states.\n",
    "# The solid black curve indicates anchors.\n",
    "# Construct the file path for saving the plot\n",
    "file_path = os.path.join(\n",
    "    PATH_ANALYSIS_OUTPUT, \n",
    "    \"Figures/Downstream_Genes_Analysis/Arrow2\", \n",
    "    f\"{SAMPLE_OF_INTEREST}_Arrow2.pdf\"\n",
    ")\n",
    "\n",
    "# Create the directories if they don't exist\n",
    "os.makedirs(os.path.dirname(file_path), exist_ok=True)\n",
    "# Unspliced-spliced phase portraits, colored by celltype.\n",
    "mv.scatter_plot(adata_result, gene_list, color_by=CELL_TYPE_COLNAME, by='cu', axis_on=False, frame_on=False, downsample=2, velocity_arrows=True)\n",
    "# Save the current figure to the specified file path\n",
    "plt.savefig(file_path, format='pdf')\n",
    "# Close the figure to free memory\n",
    "plt.close()"
   ]
  },
  {
   "cell_type": "code",
   "execution_count": null,
   "id": "70",
   "metadata": {},
   "outputs": [],
   "source": [
    "# Accessibility/expression by gene time, colored by the four potential states.\n",
    "# The solid black curve indicates anchors.\n",
    "# Construct the file path for saving the plot\n",
    "file_path = os.path.join(\n",
    "    PATH_ANALYSIS_OUTPUT, \n",
    "    \"Figures/Downstream_Genes_Analysis/Arrow3\", \n",
    "    f\"{SAMPLE_OF_INTEREST}_Arrow3.pdf\"\n",
    ")\n",
    "\n",
    "# Create the directories if they don't exist\n",
    "os.makedirs(os.path.dirname(file_path), exist_ok=True)\n",
    "# Unspliced-spliced phase portraits, colored by celltype.\n",
    "mv.scatter_plot(adata_result, gene_list, color_by=CELL_TYPE_COLNAME, by='cus', downsample=3, velocity_arrows=True)# Save the current figure to the specified file path\n",
    "plt.savefig(file_path, format='pdf')\n",
    "# Close the figure to free memory\n",
    "plt.close()"
   ]
  },
  {
   "cell_type": "markdown",
   "id": "71",
   "metadata": {},
   "source": [
    "### Sparse code Version"
   ]
  },
  {
   "cell_type": "code",
   "execution_count": null,
   "id": "72",
   "metadata": {},
   "outputs": [],
   "source": [
    "import os\n",
    "import matplotlib.pyplot as plt\n",
    "\n",
    "def generate_plots(adata_result, gene_list, PATH_ANALYSIS_OUTPUT, SAMPLE_OF_INTEREST, CELL_TYPE_COLNAME):\n",
    "    # Define all plot configurations\n",
    "    plot_configs = [\n",
    "        {\n",
    "            \"dir_name\": \"Accessibility_Expression_Against_Gene_Time\",\n",
    "            \"plot_type\": \"dynamic\",\n",
    "            \"params\": {\n",
    "                \"color_by\": \"state\",\n",
    "                \"axis_on\": False,\n",
    "                \"frame_on\": False\n",
    "            }\n",
    "        },\n",
    "        {\n",
    "            \"dir_name\": \"Velocity_Against_Gene_Time\",\n",
    "            \"plot_type\": \"dynamic\",\n",
    "            \"params\": {\n",
    "                \"color_by\": \"state\",\n",
    "                \"by\": \"velocity\",\n",
    "                \"axis_on\": False,\n",
    "                \"frame_on\": False\n",
    "            }\n",
    "        },\n",
    "        {\n",
    "            \"dir_name\": \"Accessibility_Expression_Against_Shared_Latent_Time\",\n",
    "            \"plot_type\": \"dynamic\",\n",
    "            \"params\": {\n",
    "                \"color_by\": CELL_TYPE_COLNAME,\n",
    "                \"gene_time\": False,\n",
    "                \"axis_on\": False,\n",
    "                \"frame_on\": False\n",
    "            }\n",
    "        },\n",
    "        {\n",
    "            \"dir_name\": \"unspliced_unspliced\",\n",
    "            \"plot_type\": \"scatter\",\n",
    "            \"params\": {\n",
    "                \"color_by\": CELL_TYPE_COLNAME,\n",
    "                \"by\": \"us\",\n",
    "                \"axis_on\": False,\n",
    "                \"frame_on\": False\n",
    "            }\n",
    "        },\n",
    "        {\n",
    "            \"dir_name\": \"Unspliced_spliced\",\n",
    "            \"plot_type\": \"scatter\",\n",
    "            \"params\": {\n",
    "                \"color_by\": \"c\",\n",
    "                \"by\": \"us\",\n",
    "                \"cmap\": \"coolwarm\",\n",
    "                \"title_more_info\": True,\n",
    "                \"axis_on\": False,\n",
    "                \"frame_on\": False\n",
    "            }\n",
    "        },\n",
    "        {\n",
    "            \"dir_name\": \"Chromatin_unspliced\",\n",
    "            \"plot_type\": \"scatter\",\n",
    "            \"params\": {\n",
    "                \"color_by\": CELL_TYPE_COLNAME,\n",
    "                \"by\": \"cu\",\n",
    "                \"axis_on\": False,\n",
    "                \"frame_on\": False\n",
    "            }\n",
    "        },\n",
    "        {\n",
    "            \"dir_name\": \"3Dphaseportraits\",\n",
    "            \"plot_type\": \"scatter\",\n",
    "            \"params\": {\n",
    "                \"color_by\": CELL_TYPE_COLNAME,\n",
    "                \"by\": \"cus\",\n",
    "                \"axis_on\": False,\n",
    "                \"downsample\": 2\n",
    "            }\n",
    "        },\n",
    "        {\n",
    "            \"dir_name\": \"Arrow1\",\n",
    "            \"plot_type\": \"scatter\",\n",
    "            \"params\": {\n",
    "                \"color_by\": CELL_TYPE_COLNAME,\n",
    "                \"by\": \"us\",\n",
    "                \"axis_on\": False,\n",
    "                \"frame_on\": False,\n",
    "                \"downsample\": 2,\n",
    "                \"velocity_arrows\": True\n",
    "            }\n",
    "        },\n",
    "        {\n",
    "            \"dir_name\": \"Arrow2\",\n",
    "            \"plot_type\": \"scatter\",\n",
    "            \"params\": {\n",
    "                \"color_by\": CELL_TYPE_COLNAME,\n",
    "                \"by\": \"cu\",\n",
    "                \"axis_on\": False,\n",
    "                \"frame_on\": False,\n",
    "                \"downsample\": 2,\n",
    "                \"velocity_arrows\": True\n",
    "            }\n",
    "        },\n",
    "        {\n",
    "            \"dir_name\": \"Arrow3\",\n",
    "            \"plot_type\": \"scatter\",\n",
    "            \"params\": {\n",
    "                \"color_by\": CELL_TYPE_COLNAME,\n",
    "                \"by\": \"cus\",\n",
    "                \"downsample\": 3,\n",
    "                \"velocity_arrows\": True\n",
    "            }\n",
    "        }\n",
    "    ]\n",
    "\n",
    "    # Generate each plot\n",
    "    for config in plot_configs:\n",
    "        # Construct file path\n",
    "        file_path = os.path.join(\n",
    "            PATH_ANALYSIS_OUTPUT,\n",
    "            \"Figures/Downstream_Genes_Analysis\",\n",
    "            config[\"dir_name\"],\n",
    "            f\"{SAMPLE_OF_INTEREST}_{config['dir_name']}.pdf\"\n",
    "        )\n",
    "\n",
    "        # Create directory if it doesn't exist\n",
    "        os.makedirs(os.path.dirname(file_path), exist_ok=True)\n",
    "\n",
    "        # Generate plot based on type\n",
    "        if config[\"plot_type\"] == \"dynamic\":\n",
    "            mv.dynamic_plot(adata_result, gene_list, **config[\"params\"])\n",
    "        else:  # scatter plot\n",
    "            mv.scatter_plot(adata_result, gene_list, **config[\"params\"])\n",
    "\n",
    "        # Save and close figure\n",
    "        plt.savefig(file_path, format='pdf')\n",
    "        plt.close()"
   ]
  },
  {
   "cell_type": "code",
   "execution_count": null,
   "id": "73",
   "metadata": {
    "tags": []
   },
   "outputs": [],
   "source": [
    "generate_plots(\n",
    "    adata_result,\n",
    "    gene_list,\n",
    "    PATH_ANALYSIS_OUTPUT,\n",
    "    SAMPLE_OF_INTEREST,\n",
    "    CELL_TYPE_COLNAME\n",
    ")"
   ]
  }
 ],
 "metadata": {
  "kernelspec": {
   "display_name": "Python 3 (ipykernel)",
   "language": "python",
   "name": "python3"
  },
  "language_info": {
   "codemirror_mode": {
    "name": "ipython",
    "version": 3
   },
   "file_extension": ".py",
   "mimetype": "text/x-python",
   "name": "python",
   "nbconvert_exporter": "python",
   "pygments_lexer": "ipython3",
   "version": "3.11.6"
  }
 },
 "nbformat": 4,
 "nbformat_minor": 5
}
