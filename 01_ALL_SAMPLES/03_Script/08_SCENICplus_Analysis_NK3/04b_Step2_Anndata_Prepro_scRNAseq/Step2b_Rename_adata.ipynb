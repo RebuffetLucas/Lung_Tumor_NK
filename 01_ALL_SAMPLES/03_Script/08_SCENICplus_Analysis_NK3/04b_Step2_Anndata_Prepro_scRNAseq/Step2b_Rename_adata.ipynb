{
 "cells": [
  {
   "cell_type": "code",
   "execution_count": null,
   "id": "0",
   "metadata": {
    "tags": []
   },
   "outputs": [],
   "source": [
    "# Load the data\n",
    "import os\n",
    "import sys\n",
    "import subprocess\n",
    "import pycisTopic\n",
    "pycisTopic.__version__\n",
    "import subprocess\n",
    "from pycisTopic.cistopic_class import *\n",
    "from pycisTopic.utils import *\n",
    "from pycisTopic.lda_models import * \n",
    "import anndata as ad\n",
    "import scanpy as sc\n",
    "import pandas as pd\n",
    "import pickle\n",
    "import scanpy as sc"
   ]
  },
  {
   "cell_type": "code",
   "execution_count": null,
   "id": "1",
   "metadata": {
    "tags": []
   },
   "outputs": [],
   "source": [
    "# Determine the folder in which the code is executed\n",
    "WORKING_DIR = os.getcwd()\n",
    "sys.path.append(os.path.abspath( WORKING_DIR))\n",
    "\n",
    "# Run the params codes\n",
    "%run -i ../../globalParams.py #GlobalParams\n",
    "%run -i ../../sampleParams.py #sampleParams\n",
    "%run -i ./analysisParams.py #AnalysisParams"
   ]
  },
  {
   "cell_type": "code",
   "execution_count": null,
   "id": "2",
   "metadata": {
    "tags": []
   },
   "outputs": [],
   "source": [
    "PATH_ANALYSIS_OUTPUT"
   ]
  },
  {
   "cell_type": "code",
   "execution_count": null,
   "id": "3",
   "metadata": {
    "tags": []
   },
   "outputs": [],
   "source": [
    "# Load the cistopic_obj\n",
    "with open(os.path.join(PATH_EXPERIMENT_OUTPUT, ANALYSIS_04a_fullpy_STEP_NAME, \"cistopic_obj.pkl\"), \"rb\") as file:\n",
    "    cistopic_obj = pickle.load(file)\n",
    "\n",
    "#Load the h5ad file\n",
    "adata = sc.read_h5ad(os.path.join(PATH_ANALYSIS_OUTPUT,\"adata.h5ad\"))\n"
   ]
  },
  {
   "cell_type": "code",
   "execution_count": null,
   "id": "4",
   "metadata": {
    "tags": []
   },
   "outputs": [],
   "source": [
    "cistopic_obj.cell_data"
   ]
  },
  {
   "cell_type": "code",
   "execution_count": null,
   "id": "5",
   "metadata": {
    "tags": []
   },
   "outputs": [],
   "source": [
    "adata.obs.index"
   ]
  },
  {
   "cell_type": "code",
   "execution_count": null,
   "id": "6",
   "metadata": {
    "tags": []
   },
   "outputs": [],
   "source": [
    "# Function to reformat the cell names in adata\n",
    "def reformat_cell_names(cell_names):\n",
    "    reformatted_names = []\n",
    "    for name in cell_names:\n",
    "        # Replace '_' with '-' before the CSS identifier\n",
    "        parts = name.split('_')\n",
    "        new_name = f\"{parts[0]}-{parts[1]}___{parts[1]}\"\n",
    "        reformatted_names.append(new_name)\n",
    "    return reformatted_names\n",
    "\n",
    "# Apply the reformatting function to adata.obs.index\n",
    "adata.obs.index = reformat_cell_names(adata.obs.index)\n",
    "\n",
    "# Ensure the names are unique (if needed)\n",
    "#adata.obs_names_make_unique()\n",
    "\n",
    "# Check the updated cell names\n",
    "print(adata.obs.index[:10])  # View first 10 renamed cell names\n"
   ]
  },
  {
   "cell_type": "code",
   "execution_count": null,
   "id": "7",
   "metadata": {
    "tags": []
   },
   "outputs": [],
   "source": [
    "cistopic_obj.cell_names[:10]\n",
    "len(cistopic_obj.cell_names)"
   ]
  },
  {
   "cell_type": "code",
   "execution_count": null,
   "id": "8",
   "metadata": {
    "tags": []
   },
   "outputs": [],
   "source": [
    "intersected_cell_names = adata.obs.index.intersection(cistopic_obj.cell_names)\n",
    "len(intersected_cell_names)  # Show first 10 intersected cell names"
   ]
  },
  {
   "cell_type": "code",
   "execution_count": null,
   "id": "9",
   "metadata": {
    "tags": []
   },
   "outputs": [],
   "source": [
    "adata.obs_names"
   ]
  },
  {
   "cell_type": "code",
   "execution_count": null,
   "id": "10",
   "metadata": {
    "tags": []
   },
   "outputs": [],
   "source": [
    "#Subset only the intersection of cells\n",
    "adata_subset = adata[intersected_cell_names,]"
   ]
  },
  {
   "cell_type": "code",
   "execution_count": null,
   "id": "11",
   "metadata": {
    "tags": []
   },
   "outputs": [],
   "source": [
    "adata_subset"
   ]
  },
  {
   "cell_type": "code",
   "execution_count": null,
   "id": "12",
   "metadata": {
    "tags": []
   },
   "outputs": [],
   "source": [
    "adata_subset.write(os.path.join(PATH_ANALYSIS_OUTPUT , \"adata_renamed_subset.h5ad\"))"
   ]
  }
 ],
 "metadata": {
  "kernelspec": {
   "display_name": "Python 3 (ipykernel)",
   "language": "python",
   "name": "python3"
  },
  "language_info": {
   "codemirror_mode": {
    "name": "ipython",
    "version": 3
   },
   "file_extension": ".py",
   "mimetype": "text/x-python",
   "name": "python",
   "nbconvert_exporter": "python",
   "pygments_lexer": "ipython3",
   "version": "3.11.6"
  }
 },
 "nbformat": 4,
 "nbformat_minor": 5
}
