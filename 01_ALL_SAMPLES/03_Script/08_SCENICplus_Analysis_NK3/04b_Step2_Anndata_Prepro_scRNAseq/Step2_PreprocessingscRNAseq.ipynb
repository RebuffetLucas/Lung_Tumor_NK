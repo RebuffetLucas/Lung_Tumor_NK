{
 "cells": [
  {
   "cell_type": "markdown",
   "id": "0",
   "metadata": {},
   "source": [
    "# Step2: Using scanpy to preprocess the scRNAseq data"
   ]
  },
  {
   "cell_type": "markdown",
   "id": "1",
   "metadata": {},
   "source": [
    "## Importing libraries"
   ]
  },
  {
   "cell_type": "code",
   "execution_count": null,
   "id": "2",
   "metadata": {
    "tags": []
   },
   "outputs": [],
   "source": [
    "import os\n",
    "import sys\n",
    "import subprocess\n",
    "import pycisTopic\n",
    "pycisTopic.__version__\n",
    "import subprocess\n",
    "from pycisTopic.cistopic_class import *\n",
    "from pycisTopic.utils import *\n",
    "from pycisTopic.lda_models import * \n",
    "import anndata as ad\n",
    "import scanpy as sc"
   ]
  },
  {
   "cell_type": "markdown",
   "id": "3",
   "metadata": {},
   "source": [
    "## Creating the merged adata object"
   ]
  },
  {
   "cell_type": "code",
   "execution_count": null,
   "id": "4",
   "metadata": {
    "tags": []
   },
   "outputs": [],
   "source": [
    "# Determine the folder in which the code is executed\n",
    "WORKING_DIR = os.getcwd()\n",
    "sys.path.append(os.path.abspath( WORKING_DIR))\n",
    "\n",
    "# Run the params codes\n",
    "%run -i ../../globalParams.py #GlobalParams\n",
    "%run -i ../../sampleParams.py #sampleParams\n",
    "%run -i ./analysisParams.py #AnalysisParams"
   ]
  },
  {
   "cell_type": "code",
   "execution_count": null,
   "id": "5",
   "metadata": {
    "tags": []
   },
   "outputs": [],
   "source": [
    "# Get a list of all directories in the specified path\n",
    "directories = [d for d in os.listdir(PATH_TO_VELOCITY_FOLDER) if os.path.isdir(os.path.join(PATH_TO_VELOCITY_FOLDER, d))]\n",
    "print(directories)"
   ]
  },
  {
   "cell_type": "code",
   "execution_count": null,
   "id": "6",
   "metadata": {
    "tags": []
   },
   "outputs": [],
   "source": [
    "# Import them and merge them in a list\n",
    "import scanpy as sc\n",
    "\n",
    "adata_CSS1 = sc.read_10x_mtx(\n",
    "    os.path.join( PATH_TO_VELOCITY_FOLDER, \"CSS1/CSS1_filtered_feature_bc_matrix\"),\n",
    "    var_names = \"gene_symbols\"\n",
    ")\n"
   ]
  },
  {
   "cell_type": "code",
   "execution_count": null,
   "id": "7",
   "metadata": {
    "tags": []
   },
   "outputs": [],
   "source": [
    "import os\n",
    "import scanpy as sc\n",
    "import anndata as ad\n",
    "\n",
    "# Dictionary to store AnnData objects with their respective names\n",
    "adata_dict = {}\n",
    "\n",
    "# Loop over directories and load the AnnData object\n",
    "for dir_name in directories:\n",
    "    # Construct the full path to the 10x matrix for each directory\n",
    "    path_to_matrix = os.path.join(PATH_TO_VELOCITY_FOLDER, f\"{dir_name}/{dir_name}_filtered_feature_bc_matrix\")\n",
    "    \n",
    "    # Read the AnnData object\n",
    "    adata = sc.read_10x_mtx(\n",
    "        path_to_matrix,\n",
    "        var_names=\"gene_symbols\"\n",
    "    )\n",
    "    \n",
    "    # Store in the dictionary with the directory name\n",
    "    adata_dict[dir_name] = adata\n",
    "\n",
    "# Add an identifier (like the directory name) as a column in `obs` of each AnnData object\n",
    "for name, adata in adata_dict.items():\n",
    "    adata.obs['sample'] = name  # Add the directory name as a 'sample' identifier in the observation data\n"
   ]
  },
  {
   "cell_type": "code",
   "execution_count": null,
   "id": "8",
   "metadata": {
    "tags": []
   },
   "outputs": [],
   "source": [
    "# Merge all the AnnData objects into one using the sample name to track origins\n",
    "merged_adata = ad.concat(adata_dict, label='sample', join='outer', merge='same',  index_unique=\"_\" )\n",
    "\n",
    "# Optional: Verify the shape of the merged object and show the first few rows\n",
    "print(merged_adata)\n"
   ]
  },
  {
   "cell_type": "code",
   "execution_count": null,
   "id": "9",
   "metadata": {
    "tags": []
   },
   "outputs": [],
   "source": [
    "#Example of cell names\n",
    "merged_adata.obs_names"
   ]
  },
  {
   "cell_type": "code",
   "execution_count": null,
   "id": "10",
   "metadata": {
    "tags": []
   },
   "outputs": [],
   "source": [
    "import pandas as pd\n",
    "cell_data = pd.read_csv(PATH_TO_CELLDATA_CSV, index_col = 0)\n",
    "cell_data"
   ]
  },
  {
   "cell_type": "code",
   "execution_count": null,
   "id": "11",
   "metadata": {
    "tags": []
   },
   "outputs": [],
   "source": [
    "cell_data.index"
   ]
  },
  {
   "cell_type": "code",
   "execution_count": null,
   "id": "12",
   "metadata": {
    "tags": []
   },
   "outputs": [],
   "source": [
    "# Function to modify the cell_data.index format\n",
    "def reformat_index(index):\n",
    "    # Split the current index string (e.g., 'CSS1_AAACCGCGTGGATTAT-1')\n",
    "    # into the sample ID ('CSS1') and the cell barcode ('AAACCGCGTGGATTAT-1')\n",
    "    return [f\"{idx.split('_')[1]}_{idx.split('_')[0]}\" for idx in index]\n",
    "\n",
    "# Apply the reformatting function to the index\n",
    "cell_data.index = reformat_index(cell_data.index)"
   ]
  },
  {
   "cell_type": "code",
   "execution_count": null,
   "id": "13",
   "metadata": {
    "tags": []
   },
   "outputs": [],
   "source": [
    "len(list(set(merged_adata.obs_names) & set(cell_data.index)))"
   ]
  },
  {
   "cell_type": "code",
   "execution_count": null,
   "id": "14",
   "metadata": {},
   "outputs": [],
   "source": [
    "# Keep intersection of adata and cell_data\n",
    "adata = merged_adata[list(set(merged_adata.obs_names) & set(cell_data.index))].copy()\n",
    "\n",
    "# Add the metadata\n",
    "adata.obs = cell_data.loc[adata.obs_names]"
   ]
  },
  {
   "cell_type": "code",
   "execution_count": null,
   "id": "15",
   "metadata": {},
   "outputs": [],
   "source": [
    "# Calculate QC\n",
    "adata.var[\"mt\"] = adata.var_names.str.startswith(\"MT-\")\n",
    "sc.pp.calculate_qc_metrics(\n",
    "    adata, qc_vars=[\"mt\"], percent_top=None, log1p=False, inplace=True\n",
    ")"
   ]
  },
  {
   "cell_type": "code",
   "execution_count": null,
   "id": "16",
   "metadata": {},
   "outputs": [],
   "source": [
    "# Data normalization\n",
    "adata.raw = adata\n",
    "sc.pp.normalize_total(adata, target_sum=1e4)\n",
    "sc.pp.log1p(adata)\n",
    "sc.pp.highly_variable_genes(adata, min_mean=0.0125, max_mean=3, min_disp=0.5)\n",
    "adata = adata[:, adata.var.highly_variable]\n",
    "sc.pp.scale(adata, max_value=10)"
   ]
  },
  {
   "cell_type": "code",
   "execution_count": null,
   "id": "17",
   "metadata": {},
   "outputs": [],
   "source": [
    "adata.obs"
   ]
  },
  {
   "cell_type": "code",
   "execution_count": null,
   "id": "18",
   "metadata": {},
   "outputs": [],
   "source": [
    "# PCA\n",
    "sc.tl.pca(adata)\n",
    "sc.pl.pca(adata, color = CELL_TYPE_COLNAME)"
   ]
  },
  {
   "cell_type": "code",
   "execution_count": null,
   "id": "19",
   "metadata": {},
   "outputs": [],
   "source": [
    "# Neigbors and umap\n",
    "sc.pp.neighbors(adata)\n",
    "sc.tl.umap(adata)\n",
    "sc.pl.umap(adata, color = CELL_TYPE_COLNAME)\n"
   ]
  },
  {
   "cell_type": "code",
   "execution_count": null,
   "id": "20",
   "metadata": {
    "tags": []
   },
   "outputs": [],
   "source": [
    "adata.write(os.path.join(PATH_ANALYSIS_OUTPUT , \"adata.h5ad\"))"
   ]
  }
 ],
 "metadata": {
  "kernelspec": {
   "display_name": "Python 3 (ipykernel)",
   "language": "python",
   "name": "python3"
  },
  "language_info": {
   "codemirror_mode": {
    "name": "ipython",
    "version": 3
   },
   "file_extension": ".py",
   "mimetype": "text/x-python",
   "name": "python",
   "nbconvert_exporter": "python",
   "pygments_lexer": "ipython3",
   "version": "3.11.6"
  }
 },
 "nbformat": 4,
 "nbformat_minor": 5
}
