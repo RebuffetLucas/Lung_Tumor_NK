{
 "cells": [
  {
   "cell_type": "markdown",
   "id": "0",
   "metadata": {},
   "source": [
    "# Step5b: Perturbation Simulation"
   ]
  },
  {
   "cell_type": "markdown",
   "id": "1",
   "metadata": {},
   "source": [
    "## Dependencies"
   ]
  },
  {
   "cell_type": "code",
   "execution_count": null,
   "id": "2",
   "metadata": {},
   "outputs": [],
   "source": [
    "#%pip install velocyto"
   ]
  },
  {
   "cell_type": "code",
   "execution_count": null,
   "id": "3",
   "metadata": {},
   "outputs": [],
   "source": [
    "import mudata\n",
    "import os\n",
    "import scanpy as sc\n",
    "import anndata\n",
    "import matplotlib\n",
    "import matplotlib.pyplot as plt\n",
    "import adjustText\n",
    "import numpy as np\n",
    "import pandas as pd\n",
    "import sys"
   ]
  },
  {
   "cell_type": "code",
   "execution_count": null,
   "id": "4",
   "metadata": {},
   "outputs": [],
   "source": [
    "from scenicplus.simulation import (\n",
    "    train_gene_expression_models,\n",
    "    simulate_perturbation,\n",
    "    plot_perturbation_effect_in_embedding\n",
    ")"
   ]
  },
  {
   "cell_type": "code",
   "execution_count": null,
   "id": "5",
   "metadata": {},
   "outputs": [],
   "source": [
    "# Determine the folder in which the code is executed\n",
    "WORKING_DIR = os.getcwd()\n",
    "sys.path.append(os.path.abspath( WORKING_DIR))\n",
    "\n",
    "# Run the params codes\n",
    "%run -i ../../globalParams.py #GlobalParams\n",
    "%run -i ../../sampleParams.py #sampleParams\n",
    "%run -i ./analysisParams.py #AnalysisParams"
   ]
  },
  {
   "cell_type": "code",
   "execution_count": null,
   "id": "6",
   "metadata": {},
   "outputs": [],
   "source": [
    "%matplotlib inline"
   ]
  },
  {
   "cell_type": "code",
   "execution_count": null,
   "id": "7",
   "metadata": {},
   "outputs": [],
   "source": [
    "scplus_mdata = mudata.read(os.path.join(PATH_TO_THE_04d_OUPUT_FOLDER , \"outs/scplusmdata.h5mu\"))"
   ]
  },
  {
   "cell_type": "code",
   "execution_count": null,
   "id": "8",
   "metadata": {},
   "outputs": [],
   "source": [
    "scplus_mdata"
   ]
  },
  {
   "cell_type": "code",
   "execution_count": null,
   "id": "9",
   "metadata": {},
   "outputs": [],
   "source": [
    "eRegulon_gene_AUC = anndata.concat(\n",
    "    [scplus_mdata[\"direct_gene_based_AUC\"], scplus_mdata[\"extended_gene_based_AUC\"]],\n",
    "    axis = 1,\n",
    ")\n",
    "eRegulon_gene_AUC.obs = scplus_mdata.obs\n"
   ]
  },
  {
   "cell_type": "code",
   "execution_count": null,
   "id": "10",
   "metadata": {},
   "outputs": [],
   "source": [
    "eRegulon_gene_AUC"
   ]
  },
  {
   "cell_type": "markdown",
   "id": "11",
   "metadata": {
    "jp-MarkdownHeadingCollapsed": true
   },
   "source": [
    "## PCA Visualization"
   ]
  },
  {
   "cell_type": "code",
   "execution_count": null,
   "id": "12",
   "metadata": {},
   "outputs": [],
   "source": [
    "sc.pp.pca(eRegulon_gene_AUC)"
   ]
  },
  {
   "cell_type": "code",
   "execution_count": null,
   "id": "13",
   "metadata": {},
   "outputs": [],
   "source": [
    "import pandas as pd\n",
    "import matplotlib.pyplot as plt\n",
    "import matplotlib.colors as mcolors  # Correct import for color conversion\n",
    "\n",
    "# Extract unique values\n",
    "unique_values = pd.unique(eRegulon_gene_AUC.obs[\"scRNA_counts:\" + CELL_TYPE_COLNAME])\n",
    "\n",
    "# Generate a colormap with the same number of unique values\n",
    "colormap = plt.cm.get_cmap('tab10', len(unique_values))  # You can choose different colormaps\n",
    "\n",
    "# Create the color dictionary\n",
    "color_dict_line = {unique_value: mcolors.rgb2hex(colormap(i)) for i, unique_value in enumerate(unique_values)}\n",
    "\n",
    "# Display the color dictionary\n",
    "print(color_dict_line)"
   ]
  },
  {
   "cell_type": "code",
   "execution_count": null,
   "id": "14",
   "metadata": {},
   "outputs": [],
   "source": [
    "def plot_mm_line_pca(ax):\n",
    "    texts = []\n",
    "    # Plot PCA\n",
    "    ax.scatter(\n",
    "        eRegulon_gene_AUC.obsm[\"X_pca\"][:, 0],\n",
    "        eRegulon_gene_AUC.obsm[\"X_pca\"][:, 1],\n",
    "        color = [color_dict_line[line] for line in eRegulon_gene_AUC.obs[\"scRNA_counts:\"+ CELL_TYPE_COLNAME]]\n",
    "    )\n",
    "    # Plot labels\n",
    "    for line in set(eRegulon_gene_AUC.obs[\"scRNA_counts:\"+ CELL_TYPE_COLNAME]):\n",
    "        line_bc_idc = np.arange(len(eRegulon_gene_AUC.obs_names))[eRegulon_gene_AUC.obs[\"scRNA_counts:\"+ CELL_TYPE_COLNAME] == line]\n",
    "        avg_x, avg_y = eRegulon_gene_AUC.obsm[\"X_pca\"][line_bc_idc, 0:2].mean(0)\n",
    "        texts.append(\n",
    "            ax.text(\n",
    "                avg_x,\n",
    "                avg_y,\n",
    "                line,\n",
    "                fontweight = \"bold\"\n",
    "            )\n",
    "        )\n",
    "    adjustText.adjust_text(texts)\n",
    "\n",
    "fig, ax = plt.subplots()\n",
    "plot_mm_line_pca(ax)"
   ]
  },
  {
   "cell_type": "code",
   "execution_count": null,
   "id": "15",
   "metadata": {},
   "outputs": [],
   "source": [
    "gene_tf_direct_extended = pd.concat(\n",
    "    [\n",
    "        scplus_mdata.uns[\"direct_e_regulon_metadata\"][[\"Gene\", \"TF\"]].drop_duplicates(),\n",
    "        scplus_mdata.uns[\"extended_e_regulon_metadata\"][[\"Gene\", \"TF\"]].drop_duplicates()\n",
    "    ]\n",
    ").drop_duplicates()\n",
    "gene_to_TF = gene_tf_direct_extended.groupby(\"Gene\")[\"TF\"].apply(lambda tfs: list(tfs)).to_dict()"
   ]
  },
  {
   "cell_type": "markdown",
   "id": "16",
   "metadata": {},
   "source": [
    "## UMAP Visualization"
   ]
  },
  {
   "cell_type": "code",
   "execution_count": null,
   "id": "17",
   "metadata": {},
   "outputs": [],
   "source": [
    "sc.pp.neighbors(eRegulon_gene_AUC, use_rep = \"X\")\n",
    "sc.tl.umap(eRegulon_gene_AUC)\n",
    "sc.pl.umap(eRegulon_gene_AUC, color =  \"scRNA_counts:\"+ CELL_TYPE_COLNAME)"
   ]
  },
  {
   "cell_type": "code",
   "execution_count": null,
   "id": "18",
   "metadata": {},
   "outputs": [],
   "source": [
    "import pandas as pd\n",
    "import matplotlib.pyplot as plt\n",
    "import matplotlib.colors as mcolors  # Correct import for color conversion\n",
    "\n",
    "# Extract unique values\n",
    "unique_values = pd.unique(eRegulon_gene_AUC.obs[\"scRNA_counts:\" + CELL_TYPE_COLNAME])\n",
    "\n",
    "# Generate a colormap with the same number of unique values\n",
    "colormap = plt.cm.get_cmap('tab10', len(unique_values))  # You can choose different colormaps\n",
    "\n",
    "# Create the color dictionary\n",
    "color_dict_line = {unique_value: mcolors.rgb2hex(colormap(i)) for i, unique_value in enumerate(unique_values)}\n",
    "\n",
    "# Display the color dictionary\n",
    "print(color_dict_line)"
   ]
  },
  {
   "cell_type": "code",
   "execution_count": null,
   "id": "19",
   "metadata": {},
   "outputs": [],
   "source": [
    "def plot_mm_line_umap(ax):\n",
    "    texts = []\n",
    "    # Plot UMAP\n",
    "    ax.scatter(\n",
    "        eRegulon_gene_AUC.obsm[\"X_umap\"][:, 0],\n",
    "        eRegulon_gene_AUC.obsm[\"X_umap\"][:, 1],\n",
    "        color = [color_dict_line[line] for line in eRegulon_gene_AUC.obs[\"scRNA_counts:\"+ CELL_TYPE_COLNAME]]\n",
    "    )\n",
    "    # Plot labels\n",
    "    for line in set(eRegulon_gene_AUC.obs[\"scRNA_counts:\"+ CELL_TYPE_COLNAME]):\n",
    "        line_bc_idc = np.arange(len(eRegulon_gene_AUC.obs_names))[eRegulon_gene_AUC.obs[\"scRNA_counts:\"+ CELL_TYPE_COLNAME] == line]\n",
    "        avg_x, avg_y = eRegulon_gene_AUC.obsm[\"X_umap\"][line_bc_idc, 0:2].mean(0)\n",
    "        texts.append(\n",
    "            ax.text(\n",
    "                avg_x,\n",
    "                avg_y,\n",
    "                line,\n",
    "                fontweight = \"bold\"\n",
    "            )\n",
    "        )\n",
    "    adjustText.adjust_text(texts)\n",
    "\n",
    "fig, ax = plt.subplots()\n",
    "plot_mm_line_umap(ax)"
   ]
  },
  {
   "cell_type": "code",
   "execution_count": null,
   "id": "20",
   "metadata": {},
   "outputs": [],
   "source": [
    "gene_tf_direct_extended = pd.concat(\n",
    "    [\n",
    "        scplus_mdata.uns[\"direct_e_regulon_metadata\"][[\"Gene\", \"TF\"]].drop_duplicates(),\n",
    "        scplus_mdata.uns[\"extended_e_regulon_metadata\"][[\"Gene\", \"TF\"]].drop_duplicates()\n",
    "    ]\n",
    ").drop_duplicates()\n",
    "gene_to_TF = gene_tf_direct_extended.groupby(\"Gene\")[\"TF\"].apply(lambda tfs: list(tfs)).to_dict()"
   ]
  },
  {
   "cell_type": "markdown",
   "id": "21",
   "metadata": {},
   "source": [
    "## WNN_UMAP Visualization"
   ]
  },
  {
   "cell_type": "code",
   "execution_count": null,
   "id": "22",
   "metadata": {},
   "outputs": [],
   "source": [
    "TABLE_EMBEDDING_OF_INTEREST"
   ]
  },
  {
   "cell_type": "code",
   "execution_count": null,
   "id": "23",
   "metadata": {},
   "outputs": [],
   "source": [
    "#Inject the WNN_UMAP values in place of UMAP\n",
    "# Read the csv of the WNN_UMAP\n",
    "WNN_UMAP_TABLE = pd.read_csv( os.path.join( PATH_EXPERIMENT_OUTPUT, ANALYSIS_04a0_STEP_NAME, \"Embeddings\",TABLE_EMBEDDING_OF_INTEREST))\n",
    "\n",
    "# Step 1: Rename the first column of WNN_UMAP_TABLE to 'cell_names'\n",
    "# Create a dictionary to map old column names to new ones\n",
    "column_mapping = {\n",
    "    WNN_UMAP_TABLE.columns[0]: 'cell_names',\n",
    "    WNN_UMAP_TABLE.columns[1]: 'WNNUMAP_1',\n",
    "    WNN_UMAP_TABLE.columns[2]: 'WNNUMAP_2'\n",
    "}\n",
    "\n",
    "# Rename the columns\n",
    "WNN_UMAP_TABLE = WNN_UMAP_TABLE.rename(columns=column_mapping)\n",
    "\n",
    "# Step 2: Modify the names in the 'cell_names' column to match the format in eRegulon_gene_AUC.obs_names\n",
    "WNN_UMAP_TABLE['cell_names'] = WNN_UMAP_TABLE['cell_names'].apply(lambda x: '-'.join(x.split('_')[1:]) + '-' + x.split('_')[0] + '___' + x.split('_')[0])\n",
    "\n",
    "# Step 3: Keep only rows where 'cell_names' in WNN_UMAP_TABLE match with eRegulon_gene_AUC.obs_names\n",
    "WNN_UMAP_TABLE_filtered = WNN_UMAP_TABLE[WNN_UMAP_TABLE['cell_names'].isin(eRegulon_gene_AUC.obs_names)]\n",
    "\n",
    "# Step 4: Reorder WNN_UMAP_TABLE_filtered to match the order of eRegulon_gene_AUC.obs_names\n",
    "WNN_UMAP_TABLE_ordered = WNN_UMAP_TABLE_filtered.set_index('cell_names').reindex(eRegulon_gene_AUC.obs_names).reset_index()\n",
    "\n",
    "# Check the reordered table\n",
    "print(WNN_UMAP_TABLE_ordered)"
   ]
  },
  {
   "cell_type": "code",
   "execution_count": null,
   "id": "24",
   "metadata": {},
   "outputs": [],
   "source": [
    "#Inject the values of WNN_UMAP\n",
    "# Step 1: Extract the 'WNNUMAP_1' and 'WNNUMAP_2' columns from WNN_UMAP_TABLE_ordered\n",
    "wnn_umap_values = WNN_UMAP_TABLE_ordered[['WNNUMAP_1', 'WNNUMAP_2']].values\n",
    "\n",
    "# Step 2: Inject these values into eRegulon_gene_AUC.obsm[\"X_umap\"]\n",
    "eRegulon_gene_AUC.obsm[\"X_umap\"] = wnn_umap_values\n",
    "\n",
    "# Step 3: Check that the values were successfully updated\n",
    "print(eRegulon_gene_AUC.obsm[\"X_umap\"])"
   ]
  },
  {
   "cell_type": "code",
   "execution_count": null,
   "id": "25",
   "metadata": {},
   "outputs": [],
   "source": [
    "#Def the visualisation function\n",
    "def plot_mm_line_umap(ax):\n",
    "    texts = []\n",
    "    # Plot UMAP\n",
    "    ax.scatter(\n",
    "        eRegulon_gene_AUC.obsm[\"X_umap\"][:, 0],\n",
    "        eRegulon_gene_AUC.obsm[\"X_umap\"][:, 1],\n",
    "        color = [color_dict_line[line] for line in eRegulon_gene_AUC.obs[\"scRNA_counts:\"+ CELL_TYPE_COLNAME]]\n",
    "    )\n",
    "    # Plot labels\n",
    "    for line in set(eRegulon_gene_AUC.obs[\"scRNA_counts:\"+ CELL_TYPE_COLNAME]):\n",
    "        line_bc_idc = np.arange(len(eRegulon_gene_AUC.obs_names))[eRegulon_gene_AUC.obs[\"scRNA_counts:\"+ CELL_TYPE_COLNAME] == line]\n",
    "        avg_x, avg_y = eRegulon_gene_AUC.obsm[\"X_umap\"][line_bc_idc, 0:2].mean(0)\n",
    "        texts.append(\n",
    "            ax.text(\n",
    "                avg_x,\n",
    "                avg_y,\n",
    "                line,\n",
    "                fontweight = \"bold\"\n",
    "            )\n",
    "        )\n",
    "    adjustText.adjust_text(texts)\n",
    "    \n",
    "# Have a look at the figures\n",
    "fig, ax = plt.subplots()\n",
    "plot_mm_line_umap(ax)"
   ]
  },
  {
   "cell_type": "code",
   "execution_count": null,
   "id": "26",
   "metadata": {},
   "outputs": [],
   "source": [
    "#Improved dataviz\n",
    "def plot_mm_line_umap(ax, eRegulon_gene_AUC, CELL_TYPE_COLNAME, color_dict_line, point_size=1, legend_loc='center left'):\n",
    "    texts = []\n",
    "    \n",
    "    # Plot UMAP\n",
    "    scatter = ax.scatter(\n",
    "        eRegulon_gene_AUC.obsm[\"X_umap\"][:, 0],\n",
    "        eRegulon_gene_AUC.obsm[\"X_umap\"][:, 1],\n",
    "        c=[color_dict_line[line] for line in eRegulon_gene_AUC.obs[\"scRNA_counts:\" + CELL_TYPE_COLNAME]],\n",
    "        s=point_size,  # Set point size\n",
    "        alpha=0.7  # Add some transparency\n",
    "    )\n",
    "    \n",
    "    # Plot labels\n",
    "    for line in set(eRegulon_gene_AUC.obs[\"scRNA_counts:\" + CELL_TYPE_COLNAME]):\n",
    "        line_bc_idc = np.where(eRegulon_gene_AUC.obs[\"scRNA_counts:\" + CELL_TYPE_COLNAME] == line)[0]\n",
    "        avg_x, avg_y = eRegulon_gene_AUC.obsm[\"X_umap\"][line_bc_idc, 0:2].mean(0)\n",
    "        texts.append(\n",
    "            ax.text(\n",
    "                avg_x,\n",
    "                avg_y,\n",
    "                line,\n",
    "                fontweight=\"bold\",\n",
    "                fontsize=8  # Adjust font size if needed\n",
    "            )\n",
    "        )\n",
    "    \n",
    "    # Adjust text labels to avoid overlap\n",
    "    adjustText.adjust_text(texts, arrowprops=dict(arrowstyle='->', color='black'))\n",
    "    \n",
    "    # Add legend\n",
    "    unique_lines = list(set(eRegulon_gene_AUC.obs[\"scRNA_counts:\" + CELL_TYPE_COLNAME]))\n",
    "    legend_elements = [plt.Line2D([0], [0], marker='o', color='w', \n",
    "                                  markerfacecolor=color_dict_line[line], markersize=8, label=line)\n",
    "                       for line in unique_lines]\n",
    "    ax.legend(handles=legend_elements, loc=legend_loc, bbox_to_anchor=(1.05, 0.5), \n",
    "              title=CELL_TYPE_COLNAME, title_fontsize='large')\n",
    "    \n",
    "    # Set labels and title\n",
    "    ax.set_xlabel('UMAP 1')\n",
    "    ax.set_ylabel('UMAP 2')\n",
    "    ax.set_title('UMAP Plot')\n",
    "    \n",
    "    # Adjust layout to prevent clipping of labels\n",
    "    plt.tight_layout()\n",
    "    \n",
    "    return ax\n",
    "\n",
    "# Usage\n",
    "fig, ax = plt.subplots(figsize=(12, 8))  # Increase figure size to accommodate legend\n",
    "plot_mm_line_umap(ax, eRegulon_gene_AUC, CELL_TYPE_COLNAME, color_dict_line)\n",
    "plt.show()"
   ]
  },
  {
   "cell_type": "code",
   "execution_count": null,
   "id": "27",
   "metadata": {},
   "outputs": [],
   "source": [
    "color_dict_line"
   ]
  },
  {
   "cell_type": "code",
   "execution_count": null,
   "id": "28",
   "metadata": {},
   "outputs": [],
   "source": [
    "the_values_to_see = pd.unique(eRegulon_gene_AUC.obs[\"scRNA_counts:\" + CELL_TYPE_COLNAME])\n",
    "print(the_values_to_see[5:11])"
   ]
  },
  {
   "cell_type": "code",
   "execution_count": null,
   "id": "29",
   "metadata": {},
   "outputs": [],
   "source": [
    "# Create color dictionary\n",
    "color_dict_line = dict(zip(cluster_names, color_codes))\n",
    "\n",
    "def plot_mm_line_umap(ax, eRegulon_gene_AUC, CELL_TYPE_COLNAME, color_dict_line, point_size= 1.5, legend_loc='center left'):\n",
    "    texts = []\n",
    "    \n",
    "    # Plot UMAP\n",
    "    scatter = ax.scatter(\n",
    "        eRegulon_gene_AUC.obsm[\"X_umap\"][:, 0],\n",
    "        eRegulon_gene_AUC.obsm[\"X_umap\"][:, 1],\n",
    "        c=[color_dict_line.get(line, \"#000000\") for line in eRegulon_gene_AUC.obs[\"scRNA_counts:\" + CELL_TYPE_COLNAME]],\n",
    "        s=point_size,\n",
    "        alpha=0.7\n",
    "    )\n",
    "    \n",
    "    # Plot labels\n",
    "    for line in set(eRegulon_gene_AUC.obs[\"scRNA_counts:\" + CELL_TYPE_COLNAME]):\n",
    "        line_bc_idc = np.where(eRegulon_gene_AUC.obs[\"scRNA_counts:\" + CELL_TYPE_COLNAME] == line)[0]\n",
    "        avg_x, avg_y = eRegulon_gene_AUC.obsm[\"X_umap\"][line_bc_idc, 0:2].mean(0)\n",
    "        texts.append(\n",
    "            ax.text(\n",
    "                avg_x,\n",
    "                avg_y,\n",
    "                line,\n",
    "                fontweight=\"bold\",\n",
    "                fontsize=8\n",
    "            )\n",
    "        )\n",
    "    \n",
    "    # Adjust text labels to avoid overlap\n",
    "    adjustText.adjust_text(texts, arrowprops=dict(arrowstyle='->', color='black'))\n",
    "    \n",
    "    # Add legend\n",
    "    legend_elements = [plt.Line2D([0], [0], marker='o', color='w', \n",
    "                                  markerfacecolor=color_dict_line[line], markersize=8, label=line)\n",
    "                       for line in color_dict_line if line in set(eRegulon_gene_AUC.obs[\"scRNA_counts:\" + CELL_TYPE_COLNAME])]\n",
    "    ax.legend(handles=legend_elements, loc=legend_loc, bbox_to_anchor=(1.05, 0.5), \n",
    "              title=CELL_TYPE_COLNAME, title_fontsize='large')\n",
    "    \n",
    "    # Set labels and title\n",
    "    ax.set_xlabel('UMAP 1')\n",
    "    ax.set_ylabel('UMAP 2')\n",
    "    ax.set_title('UMAP Plot')\n",
    "    \n",
    "    # Adjust layout to prevent clipping of labels\n",
    "    plt.tight_layout()\n",
    "    \n",
    "    return ax\n",
    "\n",
    "# Usage\n",
    "fig, ax = plt.subplots(figsize=(12, 8))  # Increase figure size to accommodate legend\n",
    "plot_mm_line_umap(ax, eRegulon_gene_AUC, CELL_TYPE_COLNAME, color_dict_line)\n",
    "plt.show()"
   ]
  },
  {
   "cell_type": "code",
   "execution_count": null,
   "id": "30",
   "metadata": {},
   "outputs": [],
   "source": [
    "import pandas as pd\n",
    "import matplotlib.pyplot as plt\n",
    "import matplotlib.colors as mcolors  # Correct import for color conversion\n",
    "\n",
    "# Extract unique values\n",
    "unique_values = pd.unique(eRegulon_gene_AUC.obs[\"scRNA_counts:\" + CELL_TYPE_COLNAME])\n",
    "\n",
    "# Generate a colormap with the same number of unique values\n",
    "colormap = plt.cm.get_cmap('tab10', len(unique_values))  # You can choose different colormaps\n",
    "\n",
    "# Create the color dictionary\n",
    "color_dict_line = {unique_value: mcolors.rgb2hex(colormap(i)) for i, unique_value in enumerate(unique_values)}\n",
    "\n",
    "# Display the color dictionary\n",
    "print(color_dict_line)"
   ]
  },
  {
   "cell_type": "code",
   "execution_count": null,
   "id": "31",
   "metadata": {},
   "outputs": [],
   "source": [
    "#Old version\n",
    "\n",
    "#def plot_mm_line_umap(ax):\n",
    "#    texts = []\n",
    "#    # Plot UMAP\n",
    "#    ax.scatter(\n",
    "#        eRegulon_gene_AUC.obsm[\"X_umap\"][:, 0],\n",
    "#        eRegulon_gene_AUC.obsm[\"X_umap\"][:, 1],\n",
    "#        color = [color_dict_line[line] for line in eRegulon_gene_AUC.obs[\"scRNA_counts:\"+ CELL_TYPE_COLNAME]]\n",
    "#    )\n",
    "    # Plot labels\n",
    "#    for line in set(eRegulon_gene_AUC.obs[\"scRNA_counts:\"+ CELL_TYPE_COLNAME]):\n",
    "#        line_bc_idc = np.arange(len(eRegulon_gene_AUC.obs_names))[eRegulon_gene_AUC.obs[\"scRNA_counts:\"+ CELL_TYPE_COLNAME] == line]\n",
    "#        avg_x, avg_y = eRegulon_gene_AUC.obsm[\"X_umap\"][line_bc_idc, 0:2].mean(0)\n",
    "#        texts.append(\n",
    "#            ax.text(\n",
    "#                avg_x,\n",
    "#                avg_y,\n",
    "#                line,\n",
    "#                fontweight = \"bold\"\n",
    "#            )\n",
    "#        )\n",
    "#    adjustText.adjust_text(texts)\n",
    "\n",
    "#fig, ax = plt.subplots()\n",
    "#plot_mm_line_umap(ax)"
   ]
  },
  {
   "cell_type": "code",
   "execution_count": null,
   "id": "32",
   "metadata": {},
   "outputs": [],
   "source": [
    "gene_tf_direct_extended = pd.concat(\n",
    "    [\n",
    "        scplus_mdata.uns[\"direct_e_regulon_metadata\"][[\"Gene\", \"TF\"]].drop_duplicates(),\n",
    "        scplus_mdata.uns[\"extended_e_regulon_metadata\"][[\"Gene\", \"TF\"]].drop_duplicates()\n",
    "    ]\n",
    ").drop_duplicates()\n",
    "gene_to_TF = gene_tf_direct_extended.groupby(\"Gene\")[\"TF\"].apply(lambda tfs: list(tfs)).to_dict()\n"
   ]
  },
  {
   "cell_type": "markdown",
   "id": "33",
   "metadata": {
    "jp-MarkdownHeadingCollapsed": true
   },
   "source": [
    "## Plot with TF driven modifications"
   ]
  },
  {
   "cell_type": "markdown",
   "id": "34",
   "metadata": {},
   "source": [
    "## Perturbation analysis"
   ]
  },
  {
   "cell_type": "code",
   "execution_count": null,
   "id": "35",
   "metadata": {},
   "outputs": [],
   "source": [
    "gene_to_TF[FT_OF_INTEREST]"
   ]
  },
  {
   "cell_type": "code",
   "execution_count": null,
   "id": "36",
   "metadata": {},
   "outputs": [],
   "source": [
    "# use a subset of genes, just so the notebook runs fast\n",
    "genes_to_use = scplus_mdata.uns[\"direct_e_regulon_metadata\"].sort_values(\"triplet_rank\")[\"Gene\"].iloc[0:5_000].drop_duplicates()"
   ]
  },
  {
   "cell_type": "code",
   "execution_count": null,
   "id": "37",
   "metadata": {},
   "outputs": [],
   "source": [
    "regressors = train_gene_expression_models(\n",
    "    df_EXP = scplus_mdata[\"scRNA_counts\"].to_df(),\n",
    "    gene_to_TF = gene_to_TF,\n",
    "    genes = genes_to_use,\n",
    ")"
   ]
  },
  {
   "cell_type": "code",
   "execution_count": null,
   "id": "38",
   "metadata": {},
   "outputs": [],
   "source": [
    "perturbation_over_iter = simulate_perturbation(\n",
    "    df_EXP = scplus_mdata[\"scRNA_counts\"].to_df(),\n",
    "    perturbation = {FT_OF_INTEREST: 0},\n",
    "    keep_intermediate = True,\n",
    "    n_iter = 5,\n",
    "    regressors = regressors\n",
    ")\n"
   ]
  },
  {
   "cell_type": "code",
   "execution_count": null,
   "id": "39",
   "metadata": {},
   "outputs": [],
   "source": [
    "# Set the file path for saving the plot\n",
    "output_path = os.path.join(PATH_ANALYSIS_OUTPUT, \"Donwstream_Genes_After_disruption\", f\"{FT_OF_INTEREST}_perturbation_effect_in_{GROUP_OF_INTEREST}cluster.pdf\")\n",
    "\n",
    "\n",
    "genes_to_show = gene_to_TF[FT_OF_INTEREST]\n",
    "cell_line = GROUP_OF_INTEREST\n",
    "fig, ax = plt.subplots()\n",
    "baseline = perturbation_over_iter[0].groupby(eRegulon_gene_AUC.obs[\"scRNA_counts:\"+ CELL_TYPE_COLNAME]).mean().loc[cell_line, genes_to_show]\n",
    "for gene in genes_to_show:\n",
    "    ax.plot(\n",
    "        np.arange(5) + 1,\n",
    "        [\n",
    "            np.log2(perturbation_over_iter[i].groupby(eRegulon_gene_AUC.obs[\"scRNA_counts:\"+ CELL_TYPE_COLNAME]).mean().loc[cell_line, gene] / baseline[gene])\n",
    "            for i in np.arange(5) + 1\n",
    "        ],\n",
    "        label = gene\n",
    "    )\n",
    "ax.set_ylabel(\"Predicted $log{_2}FC$\")\n",
    "ax.set_xlabel(\"Iteration\")\n",
    "ax.legend()\n",
    "ax.axhline(y = 0, color = \"black\")\n",
    "ax.grid(\"gray\")\n",
    "ax.set_axisbelow(True)\n",
    "\n",
    "# Save the plot to the specified file path\n",
    "plt.savefig(output_path, format='pdf')"
   ]
  },
  {
   "cell_type": "code",
   "execution_count": null,
   "id": "40",
   "metadata": {
    "tags": []
   },
   "outputs": [],
   "source": [
    "# Create color dictionary\n",
    "color_dict_line = dict(zip(cluster_names, color_codes))\n",
    "\n",
    "# Set the file path for saving the plot\n",
    "output_path = os.path.join(PATH_ANALYSIS_OUTPUT, \"Disrupted_heatmap\", f\"{FT_OF_INTEREST}_perturbation_effect.pdf\")\n",
    "\n",
    "\n",
    "def plot_mm_line_umap(ax, eRegulon_gene_AUC, CELL_TYPE_COLNAME, color_dict_line, point_size= 1.5, legend_loc='center left'):\n",
    "    texts = []\n",
    "    \n",
    "    # Plot UMAP\n",
    "    scatter = ax.scatter(\n",
    "        eRegulon_gene_AUC.obsm[\"X_umap\"][:, 0],\n",
    "        eRegulon_gene_AUC.obsm[\"X_umap\"][:, 1],\n",
    "        c=[color_dict_line.get(line, \"#000000\") for line in eRegulon_gene_AUC.obs[\"scRNA_counts:\" + CELL_TYPE_COLNAME]],\n",
    "        s=point_size,\n",
    "        alpha=0.7\n",
    "    )\n",
    "    \n",
    "    # Plot labels\n",
    "    for line in set(eRegulon_gene_AUC.obs[\"scRNA_counts:\" + CELL_TYPE_COLNAME]):\n",
    "        line_bc_idc = np.where(eRegulon_gene_AUC.obs[\"scRNA_counts:\" + CELL_TYPE_COLNAME] == line)[0]\n",
    "        avg_x, avg_y = eRegulon_gene_AUC.obsm[\"X_umap\"][line_bc_idc, 0:2].mean(0)\n",
    "        texts.append(\n",
    "            ax.text(\n",
    "                avg_x,\n",
    "                avg_y,\n",
    "                line,\n",
    "                fontweight=\"bold\",\n",
    "                fontsize=8\n",
    "            )\n",
    "        )\n",
    "    \n",
    "    # Adjust text labels to avoid overlap\n",
    "    adjustText.adjust_text(texts, arrowprops=dict(arrowstyle='->', color='black'))\n",
    "    \n",
    "    # Add legend\n",
    "    legend_elements = [plt.Line2D([0], [0], marker='o', color='w', \n",
    "                                  markerfacecolor=color_dict_line[line], markersize=8, label=line)\n",
    "                       for line in color_dict_line if line in set(eRegulon_gene_AUC.obs[\"scRNA_counts:\" + CELL_TYPE_COLNAME])]\n",
    "    ax.legend(handles=legend_elements, loc=legend_loc, bbox_to_anchor=(1.05, 0.5), \n",
    "              title=CELL_TYPE_COLNAME, title_fontsize='large')\n",
    "    \n",
    "    # Set labels and title\n",
    "    ax.set_xlabel('UMAP 1')\n",
    "    ax.set_ylabel('UMAP 2')\n",
    "    ax.set_title('UMAP Plot')\n",
    "    \n",
    "    # Adjust layout to prevent clipping of labels\n",
    "    plt.tight_layout()\n",
    "    \n",
    "    return ax\n",
    "\n",
    "# Usage\n",
    "fig, ax = plt.subplots(figsize=(12, 8))  # Increase figure size to accommodate legend\n",
    "plot_mm_line_umap(ax, eRegulon_gene_AUC, CELL_TYPE_COLNAME, color_dict_line)\n",
    "\n",
    "# Umap Dataviz\n",
    "plot_perturbation_effect_in_embedding(\n",
    "    perturbed_matrix = perturbation_over_iter[5],\n",
    "    original_matrix = perturbation_over_iter[0],\n",
    "    embedding = eRegulon_gene_AUC.obsm[\"X_umap\"][:, 0:2],\n",
    "    AUC_kwargs = {},\n",
    "    ax = ax,\n",
    "    eRegulons = pd.concat(\n",
    "        [\n",
    "            scplus_mdata.uns[\"direct_e_regulon_metadata\"],\n",
    "            scplus_mdata.uns[\"extended_e_regulon_metadata\"]\n",
    "        ]\n",
    "    ),\n",
    "    n_cpu = NUMBER_CPU\n",
    ")\n",
    "\n",
    "# Save the plot to the specified file path\n",
    "plt.savefig(output_path, format='pdf')"
   ]
  }
 ],
 "metadata": {
  "kernelspec": {
   "display_name": "Python 3 (ipykernel)",
   "language": "python",
   "name": "python3"
  },
  "language_info": {
   "codemirror_mode": {
    "name": "ipython",
    "version": 3
   },
   "file_extension": ".py",
   "mimetype": "text/x-python",
   "name": "python",
   "nbconvert_exporter": "python",
   "pygments_lexer": "ipython3",
   "version": "3.11.6"
  }
 },
 "nbformat": 4,
 "nbformat_minor": 5
}
