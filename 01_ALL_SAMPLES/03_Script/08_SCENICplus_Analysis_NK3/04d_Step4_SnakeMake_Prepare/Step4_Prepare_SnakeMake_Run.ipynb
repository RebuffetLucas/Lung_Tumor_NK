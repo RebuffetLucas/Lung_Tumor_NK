{
 "cells": [
  {
   "cell_type": "markdown",
   "id": "de0cc6fc-ad3e-4aa9-a7f7-5df64303e8a9",
   "metadata": {},
   "source": [
    "# Step4: Prepare for SnakeMake Run of pyScenicplus"
   ]
  },
  {
   "cell_type": "markdown",
   "id": "9f9f0fca-3aaa-4919-852a-7628c5579539",
   "metadata": {},
   "source": [
    "## Importing libraries"
   ]
  },
  {
   "cell_type": "code",
   "execution_count": 2,
   "id": "df29d2b7-76ad-48be-9075-3b22119cffa5",
   "metadata": {
    "tags": []
   },
   "outputs": [],
   "source": [
    "import os\n",
    "import sys\n"
   ]
  },
  {
   "cell_type": "markdown",
   "id": "95f14196-5f31-4bb6-a097-9ae81921faab",
   "metadata": {},
   "source": [
    "## Start Scenic+"
   ]
  },
  {
   "cell_type": "code",
   "execution_count": 3,
   "id": "7f6a894e-14fa-459d-b6ee-cf243b0c7811",
   "metadata": {
    "tags": []
   },
   "outputs": [],
   "source": [
    "# Determine the folder in which the code is executed\n",
    "WORKING_DIR = os.getcwd()\n",
    "sys.path.append(os.path.abspath( WORKING_DIR))\n",
    "\n",
    "# Run the params codes\n",
    "%run -i ../../globalParams.py #GlobalParams\n",
    "%run -i ../../sampleParams.py #sampleParams\n",
    "%run -i ./analysisParams.py #AnalysisParams\n"
   ]
  },
  {
   "cell_type": "code",
   "execution_count": 4,
   "id": "2735d685-55f6-437a-8c14-9e5753ee1129",
   "metadata": {
    "tags": []
   },
   "outputs": [
    {
     "name": "stdout",
     "output_type": "stream",
     "text": [
      "\n",
      "   ____   ____ _____ _   _ ___ ____      \n",
      "  / ___| / ___| ____| \\ | |_ _/ ___|\u001b[31;1m _ \u001b[0m\n",
      "  \\___ \\| |   |  _| |  \\| || | |  \u001b[31;1m _|.|_\u001b[0m\n",
      "   ___) | |___| |___| |\\  || | |__\u001b[31;1m|_..._|\u001b[0m\n",
      "  |____/ \\____|_____|_| \\_|___\\____|\u001b[31;1m|_|\u001b[0m \n",
      "\n",
      "\n",
      "scenicplus verions: 1.0a1\n",
      "usage: scenicplus [-h] {init_snakemake,prepare_data,grn_inference} ...\n",
      "\n",
      "Single-Cell Enhancer-driven gene regulatory Network Inference and Clustering\n",
      "\n",
      "positional arguments:\n",
      "  {init_snakemake,prepare_data,grn_inference}\n",
      "\n",
      "options:\n",
      "  -h, --help            show this help message and exit\n"
     ]
    }
   ],
   "source": [
    "!scenicplus"
   ]
  },
  {
   "cell_type": "markdown",
   "id": "9ed0f65c-b8c3-4182-8c76-96a3a57dd2c7",
   "metadata": {},
   "source": [
    "## Initialize Snakemake"
   ]
  },
  {
   "cell_type": "code",
   "execution_count": 5,
   "id": "f450917c-acb0-4f68-8303-b5e551963195",
   "metadata": {
    "tags": []
   },
   "outputs": [
    {
     "name": "stdout",
     "output_type": "stream",
     "text": [
      "2024-12-02 12:03:49,780 SCENIC+      INFO     Creating snakemake folder in: scplus_pipeline\n",
      "\u001b[0m"
     ]
    }
   ],
   "source": [
    "!mkdir -p scplus_pipeline\n",
    "!scenicplus init_snakemake --out_dir scplus_pipeline"
   ]
  },
  {
   "cell_type": "code",
   "execution_count": 6,
   "id": "324ab83c-4435-4481-93e2-d4aa92b70ddf",
   "metadata": {
    "tags": []
   },
   "outputs": [
    {
     "name": "stdout",
     "output_type": "stream",
     "text": [
      "/\n",
      "Snakemake/\n",
      "    workflow/\n",
      "        Snakefile\n",
      "    config/\n",
      "        config.yaml\n"
     ]
    }
   ],
   "source": [
    "def print_directory_tree(startpath, indent=\"\"):\n",
    "    for root, dirs, files in os.walk(startpath):\n",
    "        # Get the level of depth for indentation\n",
    "        level = root.replace(startpath, \"\").count(os.sep)\n",
    "        indent = ' ' * 4 * level\n",
    "        print(f\"{indent}{os.path.basename(root)}/\")\n",
    "        subindent = ' ' * 4 * (level + 1)\n",
    "        for file in files:\n",
    "            print(f\"{subindent}{file}\")\n",
    "\n",
    "# Example usage to replace `!tree scplus_pipeline/`\n",
    "print_directory_tree('scplus_pipeline/')"
   ]
  },
  {
   "cell_type": "code",
   "execution_count": 7,
   "id": "162c5b2e-c67a-479c-8285-ab4d7aa01134",
   "metadata": {
    "tags": []
   },
   "outputs": [],
   "source": [
    "# Need to change:\n",
    "!mkdir -p outs\n",
    "!mkdir -p tmp\n",
    "\n"
   ]
  }
 ],
 "metadata": {
  "kernelspec": {
   "display_name": "Python 3 (ipykernel)",
   "language": "python",
   "name": "python3"
  },
  "language_info": {
   "codemirror_mode": {
    "name": "ipython",
    "version": 3
   },
   "file_extension": ".py",
   "mimetype": "text/x-python",
   "name": "python",
   "nbconvert_exporter": "python",
   "pygments_lexer": "ipython3",
   "version": "3.11.6"
  }
 },
 "nbformat": 4,
 "nbformat_minor": 5
}
